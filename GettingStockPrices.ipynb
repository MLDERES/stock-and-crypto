{
  "cells": [
    {
      "cell_type": "markdown",
      "source": [
        "# Gathering Stock Prices\n",
        "\n",
        "In this notebook, we'll use the AlphaVantage site to download stock (and crypto) data into files that will be stored in the ./data directory.\n",
        "In order for this notebook to work properly, the API key for AlphaVantage will need to be filled in.\n",
        "\n",
        "To see what data is available check out [AlphaVantage](https://alpha-vantage.readthedocs.io/en/latest/).\n",
        "\n",
        "This notebook requires a free API key, that can be requested on http://www.alphavantage.co/support/#api-key.\n",
        "\n",
        "***To use this notebook you'll need to have a text file named .env with your AlphaVantage API key.*** <br>\n",
        "\n",
        "The format of this file is <br>\n",
        "ALPHA_API = 'your api key' <br>\n",
        "\n",
        "The first few cells in this notebook are setting up necessary utilities and can be safely ignored (but must be run) unless you are interested in loading files and dealing with setting constants."
      ],
      "metadata": {
        "collapsed": true,
        "cell_style": "center"
      }
    },
    {
      "cell_type": "code",
      "source": [
        "!pip install alpha_vantage\n",
        "!pip install python-dotenv\n",
        "%run ./utils.py"
      ],
      "outputs": [
        {
          "output_type": "stream",
          "name": "stdout",
          "text": [
            "Requirement already satisfied: alpha_vantage in /home/nbuser/anaconda3_501/lib/python3.6/site-packages (2.1.3)\n",
            "Requirement already satisfied: requests in /home/nbuser/anaconda3_501/lib/python3.6/site-packages (from alpha_vantage) (2.22.0)\n",
            "Requirement already satisfied: idna<2.9,>=2.5 in /home/nbuser/anaconda3_501/lib/python3.6/site-packages (from requests->alpha_vantage) (2.7)\n",
            "Requirement already satisfied: chardet<3.1.0,>=3.0.2 in /home/nbuser/anaconda3_501/lib/python3.6/site-packages (from requests->alpha_vantage) (3.0.4)\n",
            "Requirement already satisfied: urllib3!=1.25.0,!=1.25.1,<1.26,>=1.21.1 in /home/nbuser/anaconda3_501/lib/python3.6/site-packages (from requests->alpha_vantage) (1.23)\n",
            "Requirement already satisfied: certifi>=2017.4.17 in /home/nbuser/anaconda3_501/lib/python3.6/site-packages (from requests->alpha_vantage) (2018.10.15)\n",
            "\u001b[33mWARNING: You are using pip version 19.3.1; however, version 20.0.2 is available.\n",
            "You should consider upgrading via the 'pip install --upgrade pip' command.\u001b[0m\n",
            "Requirement already satisfied: python-dotenv in /home/nbuser/anaconda3_501/lib/python3.6/site-packages (0.12.0)\n",
            "\u001b[33mWARNING: You are using pip version 19.3.1; however, version 20.0.2 is available.\n",
            "You should consider upgrading via the 'pip install --upgrade pip' command.\u001b[0m\n"
          ]
        }
      ],
      "execution_count": 1,
      "metadata": {
        "trusted": true,
        "hide_input": false,
        "scrolled": true
      }
    },
    {
      "cell_type": "code",
      "source": [
        "pd.set_option(\"display.max_rows\", 4)"
      ],
      "outputs": [],
      "execution_count": 15,
      "metadata": {
        "tags": [
          "#init"
        ],
        "trusted": true
      }
    },
    {
      "cell_type": "markdown",
      "source": [
        "# Getting the data\n",
        "\n",
        "Okay, well now we are set up to grab the data from AlphaVantage.  This is the function that will grab the data for us.  We can get just the last 100 days (default) or we can get up to the entire 20 year history.  If we do get the 20 year history, the data is stored so when we refresh it only grabs the last 100 days to refresh the data."
      ],
      "metadata": {}
    },
    {
      "cell_type": "markdown",
      "source": [
        "## Getting some sample data\n",
        "\n",
        "Here we are going to use the function to gather some data for ticker symbol 'AAPL'.  While we are only getting 100 trading days worth, the file will be saved and if we ask for it again, we'll add the days we are missing since we last asked for the data."
      ],
      "metadata": {}
    },
    {
      "cell_type": "code",
      "source": [
        "aapl_df = GetHistoricalTicker('aapl',save_data=True)\n",
        "aapl_df\n"
      ],
      "outputs": [
        {
          "output_type": "execute_result",
          "execution_count": 7,
          "data": {
            "text/html": [
              "<div>\n",
              "<style scoped>\n",
              "    .dataframe tbody tr th:only-of-type {\n",
              "        vertical-align: middle;\n",
              "    }\n",
              "\n",
              "    .dataframe tbody tr th {\n",
              "        vertical-align: top;\n",
              "    }\n",
              "\n",
              "    .dataframe thead th {\n",
              "        text-align: right;\n",
              "    }\n",
              "</style>\n",
              "<table border=\"1\" class=\"dataframe\">\n",
              "  <thead>\n",
              "    <tr style=\"text-align: right;\">\n",
              "      <th></th>\n",
              "      <th>open</th>\n",
              "      <th>high</th>\n",
              "      <th>low</th>\n",
              "      <th>close</th>\n",
              "      <th>adjusted close</th>\n",
              "      <th>volume</th>\n",
              "      <th>dividend amt</th>\n",
              "      <th>split coef</th>\n",
              "    </tr>\n",
              "    <tr>\n",
              "      <th>date</th>\n",
              "      <th></th>\n",
              "      <th></th>\n",
              "      <th></th>\n",
              "      <th></th>\n",
              "      <th></th>\n",
              "      <th></th>\n",
              "      <th></th>\n",
              "      <th></th>\n",
              "    </tr>\n",
              "  </thead>\n",
              "  <tbody>\n",
              "    <tr>\n",
              "      <th>2019-10-28</th>\n",
              "      <td>247.420</td>\n",
              "      <td>249.25</td>\n",
              "      <td>246.72</td>\n",
              "      <td>249.0500</td>\n",
              "      <td>247.7170</td>\n",
              "      <td>23655368.0</td>\n",
              "      <td>0.0</td>\n",
              "      <td>1.0</td>\n",
              "    </tr>\n",
              "    <tr>\n",
              "      <th>2019-10-29</th>\n",
              "      <td>248.970</td>\n",
              "      <td>249.75</td>\n",
              "      <td>242.57</td>\n",
              "      <td>243.2900</td>\n",
              "      <td>241.9878</td>\n",
              "      <td>35709867.0</td>\n",
              "      <td>0.0</td>\n",
              "      <td>1.0</td>\n",
              "    </tr>\n",
              "    <tr>\n",
              "      <th>...</th>\n",
              "      <td>...</td>\n",
              "      <td>...</td>\n",
              "      <td>...</td>\n",
              "      <td>...</td>\n",
              "      <td>...</td>\n",
              "      <td>...</td>\n",
              "      <td>...</td>\n",
              "      <td>...</td>\n",
              "    </tr>\n",
              "    <tr>\n",
              "      <th>2020-03-19</th>\n",
              "      <td>247.385</td>\n",
              "      <td>252.84</td>\n",
              "      <td>242.61</td>\n",
              "      <td>244.7800</td>\n",
              "      <td>244.7800</td>\n",
              "      <td>67237349.0</td>\n",
              "      <td>0.0</td>\n",
              "      <td>1.0</td>\n",
              "    </tr>\n",
              "    <tr>\n",
              "      <th>2020-03-20</th>\n",
              "      <td>247.180</td>\n",
              "      <td>251.83</td>\n",
              "      <td>246.16</td>\n",
              "      <td>251.1028</td>\n",
              "      <td>251.1028</td>\n",
              "      <td>22168432.0</td>\n",
              "      <td>0.0</td>\n",
              "      <td>1.0</td>\n",
              "    </tr>\n",
              "  </tbody>\n",
              "</table>\n",
              "<p>100 rows × 8 columns</p>\n",
              "</div>"
            ],
            "text/plain": [
              "               open    high     low     close  adjusted close      volume  \\\n",
              "date                                                                        \n",
              "2019-10-28  247.420  249.25  246.72  249.0500        247.7170  23655368.0   \n",
              "2019-10-29  248.970  249.75  242.57  243.2900        241.9878  35709867.0   \n",
              "...             ...     ...     ...       ...             ...         ...   \n",
              "2020-03-19  247.385  252.84  242.61  244.7800        244.7800  67237349.0   \n",
              "2020-03-20  247.180  251.83  246.16  251.1028        251.1028  22168432.0   \n",
              "\n",
              "            dividend amt  split coef  \n",
              "date                                  \n",
              "2019-10-28           0.0         1.0  \n",
              "2019-10-29           0.0         1.0  \n",
              "...                  ...         ...  \n",
              "2020-03-19           0.0         1.0  \n",
              "2020-03-20           0.0         1.0  \n",
              "\n",
              "[100 rows x 8 columns]"
            ]
          },
          "metadata": {}
        }
      ],
      "execution_count": 7,
      "metadata": {
        "trusted": true,
        "tags": [
          "=>historicalTicker"
        ]
      }
    },
    {
      "cell_type": "markdown",
      "source": [
        "## We can also grab Crypto data\n",
        "\n",
        "The following cells introduce a function to grab the crypto prices"
      ],
      "metadata": {}
    },
    {
      "cell_type": "code",
      "source": [
        "# Here we are getting the Bitcoin prices\n",
        "df = GetCrypto('BTC')\n",
        "df.index"
      ],
      "outputs": [
        {
          "output_type": "stream",
          "name": "stdout",
          "text": [
            "0\n"
          ]
        },
        {
          "output_type": "execute_result",
          "execution_count": 17,
          "data": {
            "text/plain": [
              "DatetimeIndex(['2017-08-17', '2017-08-18', '2017-08-19', '2017-08-20',\n",
              "               '2017-08-21', '2017-08-22', '2017-08-23', '2017-08-24',\n",
              "               '2017-08-25', '2017-08-26',\n",
              "               ...\n",
              "               '2020-03-11', '2020-03-12', '2020-03-13', '2020-03-14',\n",
              "               '2020-03-15', '2020-03-16', '2020-03-17', '2020-03-18',\n",
              "               '2020-03-19', '2020-03-20'],\n",
              "              dtype='datetime64[ns]', name='date', length=1881, freq=None)"
            ]
          },
          "metadata": {}
        }
      ],
      "execution_count": 17,
      "metadata": {
        "trusted": true
      }
    },
    {
      "cell_type": "code",
      "source": [
        "df.sort_index(ascending=False,inplace=True)\n",
        "df['3d'] = df['close'].rolling('30B').mean()\n",
        "df.head()"
      ],
      "outputs": [],
      "execution_count": null,
      "metadata": {
        "trusted": true
      }
    }
  ],
  "metadata": {
    "kernelspec": {
      "name": "python36",
      "display_name": "Python 3.6",
      "language": "python"
    },
    "varInspector": {
      "window_display": false,
      "cols": {
        "lenName": 16,
        "lenType": 16,
        "lenVar": 40
      },
      "kernels_config": {
        "python": {
          "library": "var_list.py",
          "delete_cmd_prefix": "del ",
          "delete_cmd_postfix": "",
          "varRefreshCmd": "print(var_dic_list())"
        },
        "r": {
          "library": "var_list.r",
          "delete_cmd_prefix": "rm(",
          "delete_cmd_postfix": ") ",
          "varRefreshCmd": "cat(var_dic_list()) "
        }
      },
      "types_to_exclude": [
        "module",
        "function",
        "builtin_function_or_method",
        "instance",
        "_Feature"
      ]
    },
    "celltoolbar": "Tags",
    "language_info": {
      "mimetype": "text/x-python",
      "nbconvert_exporter": "python",
      "name": "python",
      "pygments_lexer": "ipython3",
      "version": "3.6.6",
      "file_extension": ".py",
      "codemirror_mode": {
        "version": 3,
        "name": "ipython"
      }
    },
    "nteract": {
      "version": "0.22.4"
    }
  },
  "nbformat": 4,
  "nbformat_minor": 2
}