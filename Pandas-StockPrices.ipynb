{
  "cells": [
    {
      "metadata": {},
      "cell_type": "markdown",
      "source": "# Sample Notebook\n\n<p>Let's start here.  In Python, as in most programming languages, we have the ability to get very granualar in how we interact with the computer, but we can also stand on the shoulders of giants and reuse their work.  This is what we will opt to do as often as possible, other people have figured out the gory details of how to interpret the format of an Excel file so we don't have to - I'd rather depend on their work and focus on the real value add for our projects - that is spending time doing something with the data!</p>\n<br/>\nSo the first thing we are going to do is ask Python to \"load\" up the code that knows how to read Exxcel files.  The code is stored in a \"module\" called pandas (keep in mind that case matters, so Pandas is not the same as pandas).  For simplicity we are going to ask Python to make the utilities in this module available to us whenever we specify the shortcut 'pd'.  (The pd shortcut is common for Pandas).  On to the first set of code."
    },
    {
      "metadata": {
        "trusted": true
      },
      "cell_type": "code",
      "source": "# Because we are using an on-line environment, we need an extra library.  If running locally, we can do this once and then never again\n!pip install holidays",
      "execution_count": null,
      "outputs": []
    },
    {
      "metadata": {
        "trusted": true,
        "tags": [
          "#init"
        ]
      },
      "cell_type": "code",
      "source": "# Notice the '#' symbol?  This symbol tells Python that we don't want it to try to 'run' the code on this line of text\n# This syntax is called a comment, and we can use it to clarify difficult code, or provide a hint as to what the next line (or several lines)\n#  of code are meant to do\n\n# Bring the Python module that can read Excel files into our scope so that we can use it, along with a few other helpful libraries\nimport pandas as pd\nfrom scipy import stats\nimport numpy as np\nimport matplotlib\nimport math\nfrom scipy.stats import norm\nfrom dateutil.parser import *\nfrom datetime import *\nfrom dateutil.rrule import *\nimport holidays\n",
      "execution_count": 6,
      "outputs": []
    },
    {
      "metadata": {
        "trusted": true
      },
      "cell_type": "code",
      "source": "# The two key things that Pandas provides us is a Series datatype and a Dataframe.  A series is like a list of values that have an index like a number or\n# a date value or a string.  A dataframe is a collection of Series all which share the same index.  So you can think of a dataframe type like a spreadsheet,\n# just like when you open a spreadsheet and you see the row numbers on the left side and the column headers across the top, a pandas dataframe is similar\ndf = pd.read_csv('data/spy_012920.csv',index_col='Date', infer_datetime_format=True, parse_dates=True)\n# The head function, lets use see the first few lines of the file we have loaded from the CSV file\nprint(df.shape)\ndf.head()",
      "execution_count": 2,
      "outputs": [
        {
          "output_type": "stream",
          "text": "(1258, 6)\n",
          "name": "stdout"
        },
        {
          "output_type": "execute_result",
          "execution_count": 2,
          "data": {
            "text/html": "<div>\n<style scoped>\n    .dataframe tbody tr th:only-of-type {\n        vertical-align: middle;\n    }\n\n    .dataframe tbody tr th {\n        vertical-align: top;\n    }\n\n    .dataframe thead th {\n        text-align: right;\n    }\n</style>\n<table border=\"1\" class=\"dataframe\">\n  <thead>\n    <tr style=\"text-align: right;\">\n      <th></th>\n      <th>Open</th>\n      <th>High</th>\n      <th>Low</th>\n      <th>Close</th>\n      <th>Adj Close</th>\n      <th>Volume</th>\n    </tr>\n    <tr>\n      <th>Date</th>\n      <th></th>\n      <th></th>\n      <th></th>\n      <th></th>\n      <th></th>\n      <th></th>\n    </tr>\n  </thead>\n  <tbody>\n    <tr>\n      <th>2015-01-29</th>\n      <td>200.380005</td>\n      <td>202.300003</td>\n      <td>198.679993</td>\n      <td>201.990005</td>\n      <td>183.042038</td>\n      <td>173585400</td>\n    </tr>\n    <tr>\n      <th>2015-01-30</th>\n      <td>200.570007</td>\n      <td>202.169998</td>\n      <td>199.130005</td>\n      <td>199.449997</td>\n      <td>180.740311</td>\n      <td>197729700</td>\n    </tr>\n    <tr>\n      <th>2015-02-02</th>\n      <td>200.050003</td>\n      <td>202.029999</td>\n      <td>197.860001</td>\n      <td>201.919998</td>\n      <td>182.978622</td>\n      <td>163107000</td>\n    </tr>\n    <tr>\n      <th>2015-02-03</th>\n      <td>203.000000</td>\n      <td>204.850006</td>\n      <td>202.550003</td>\n      <td>204.839996</td>\n      <td>185.624680</td>\n      <td>124212900</td>\n    </tr>\n    <tr>\n      <th>2015-02-04</th>\n      <td>203.919998</td>\n      <td>205.380005</td>\n      <td>203.509995</td>\n      <td>204.059998</td>\n      <td>184.917847</td>\n      <td>134306700</td>\n    </tr>\n  </tbody>\n</table>\n</div>",
            "text/plain": "                  Open        High         Low       Close   Adj Close  \\\nDate                                                                     \n2015-01-29  200.380005  202.300003  198.679993  201.990005  183.042038   \n2015-01-30  200.570007  202.169998  199.130005  199.449997  180.740311   \n2015-02-02  200.050003  202.029999  197.860001  201.919998  182.978622   \n2015-02-03  203.000000  204.850006  202.550003  204.839996  185.624680   \n2015-02-04  203.919998  205.380005  203.509995  204.059998  184.917847   \n\n               Volume  \nDate                   \n2015-01-29  173585400  \n2015-01-30  197729700  \n2015-02-02  163107000  \n2015-02-03  124212900  \n2015-02-04  134306700  "
          },
          "metadata": {}
        }
      ]
    },
    {
      "metadata": {
        "trusted": true
      },
      "cell_type": "markdown",
      "source": "# Plotting\nOkay, we'll we have some data, now let's explore that data a bit.  It would be helpful to create a chart - yes?"
    },
    {
      "metadata": {
        "trusted": true
      },
      "cell_type": "code",
      "source": "df['Adj Close'].plot();",
      "execution_count": 4,
      "outputs": [
        {
          "output_type": "display_data",
          "data": {
            "image/png": "[encoded data removed]",
            "text/plain": "<Figure size 432x288 with 1 Axes>"
          },
          "metadata": {
            "needs_background": "light"
          }
        }
      ]
    },
    {
      "metadata": {
        "trusted": true
      },
      "cell_type": "markdown",
      "source": "# Column Calculations\n\nLooking at a chart is great, but what if what we want isn't in the data, and we have to calculate it?  For instance, what if we were interested in the percent change daily?  One way to calculate this is\n\n$\\frac{(Close - Open)}{Open}*100\\% = \\%daily change$"
    },
    {
      "metadata": {
        "trusted": true,
        "tags": [
          "=>init"
        ]
      },
      "cell_type": "code",
      "source": "df['daily change pct'] = ((df['Close']-df['Open'])/df['Open'])*100\ndf.head()",
      "execution_count": null,
      "outputs": []
    },
    {
      "metadata": {},
      "cell_type": "markdown",
      "source": "## Determining the number of up days versus down\n\nJust looking at the data, it seems that it would be interesting to know how many days the stock went up vs going down, so we can apply an *aggregate* function to a column of data as well.  Let's count ups and downs.\n"
    },
    {
      "metadata": {
        "trusted": true
      },
      "cell_type": "code",
      "source": "# This first statement creates a boolean series with True in every row where the condition is satisfied and False otherwise.\nupdays_filter = df['daily change pct'] > 0\nprint(updays_filter.head())\n# Then we can use this filter (also called a boolean mask) to select just the rows we are interested in and apply our aggregate function these rows\nprint(df.loc[updays_filter].count())\n\n# This is helpful, but I don't need to see the same count for all of the columns, maybe just one?\nupdays = df.loc[updays_filter, 'daily change pct'].count()\nprint(f'\\nJust the up days please: {updays}')\n\n# That's better.  No about the down days.  We can certainly just reverse the equation like so\ndowndays_filter = df['daily change pct'] < 0\n\n# But there is even a better way.  The tilde symbol (~) says to apply the boolean opposite to the series, so that True's become False\ndowndays_filter = ~updays_filter\ndowndays = df.loc[downdays_filter,'daily change pct'].count()\n\n\nprint(f'\\n\\nUpdays {updays}.  Downdays: {downdays}')",
      "execution_count": null,
      "outputs": []
    },
    {
      "metadata": {},
      "cell_type": "markdown",
      "source": "## Rolling Windows\n\nOf course, we have the ability to apply all manner of aggregate functions (that is, functions that take a list of numbers and calculate a single result) such as mean, median, count, sum, std, var etc.  But often times we want not to work with the entire dataset, but just a portion of the window.  For instance, we want to know the 30-day moving average of the stock close price.  Pandas allows us this with the \"rolling\" function."
    },
    {
      "metadata": {
        "trusted": true
      },
      "cell_type": "code",
      "source": "df['30DMA'] = df['Close'].rolling(30).mean()\n\n\n# Let's plot it along with the close price but on two separate figures\ndf[['30DMA','Close']].plot(subplots=True, figsize=(6,6));",
      "execution_count": null,
      "outputs": []
    },
    {
      "metadata": {
        "trusted": true
      },
      "cell_type": "code",
      "source": "# Let's add in the 200 day moving average as well and then plot them together\ndf['200DMA'] = df['Close'].rolling(200).mean()\n\ndf[['30DMA','200DMA']].plot(figsize=(6,6));",
      "execution_count": null,
      "outputs": []
    },
    {
      "metadata": {
        "trusted": true
      },
      "cell_type": "code",
      "source": "# In order to get the last say 100 days, we need to get an offset of days\n\nTODAY = pd.datetime.today()\noffset = pd.Timedelta(days=100)\nlast_100 = df[TODAY-offset:]\nlast_100",
      "execution_count": null,
      "outputs": []
    },
    {
      "metadata": {
        "trusted": true
      },
      "cell_type": "code",
      "source": "# Or if we want a specific timeframe like this year\ndf.loc['2020']",
      "execution_count": null,
      "outputs": []
    },
    {
      "metadata": {
        "trusted": true
      },
      "cell_type": "code",
      "source": "# Or maybe we want everything from Dec 2019 til now\ndf['12-2019':]",
      "execution_count": null,
      "outputs": []
    },
    {
      "metadata": {},
      "cell_type": "markdown",
      "source": "# Black-Sholes Calculations\n\nThe Black-Sholes pricing model can be calculated using the _current price_, _strike price_, _volatility_, _risk free rate_, and the _expiration_.  Two approaches are outlined here - first given a specific date, we can parse and figure out the number of days.  The second takes the number of days directly."
    },
    {
      "metadata": {
        "trusted": true
      },
      "cell_type": "code",
      "source": "def BlackSholes(currentPrice, strikePrice, volatility, rate, expiration = '12/31/2020'):\n    if type(expiration) is str:\n        expiration = parse(expiration)\n    term = (expiration.date() - date.today()).days\n    return _BlackSholes(currentPrice,strikePrice,volatility,rate, term, termUnits='days')\n\ndef _BlackSholes(currentPrice, strikePrice, volatility, rate, term, termUnits='days'):\n    # this is the log of the current price / strike price term\n    logStockStrike = math.log(currentPrice/strikePrice)\n    # represents the sigma-squared divided by 2 term\n    sigmaDiv2 = (volatility**2)/2\n    # Convert days to part of years\n    T = term/365 if termUnits == 'days' else term\n    ert = math.exp(-rate*T)\n\n    d1 = (logStockStrike + (rate+sigmaDiv2)*T) / (volatility*math.sqrt(T))\n    d2 = d1 - volatility*math.sqrt(T)\n    Nd1 = norm.cdf(d1)\n    Nd2 = norm.cdf(d2)\n    callPrice = currentPrice*Nd1 - strikePrice*ert*Nd2\n\n    Nnegd1 = norm.cdf(-d1)\n    Nnegd2 = norm.cdf(-d2)\n    putPrice = strikePrice*ert*Nnegd2 - currentPrice*Nnegd1\n\n    return (callPrice, putPrice)\n",
      "execution_count": 19,
      "outputs": []
    },
    {
      "metadata": {
        "trusted": true
      },
      "cell_type": "code",
      "source": "# Notice when we call this function, that both the Call Price and the Put Price are returned\ncurrentPrice = 333.45\nvolatility = 0.125\nstrikePrice = 340\nriskFreeRate = 0.017\nexpiration = '12/31/2020'\n\ncallPrice, putPrice = BlackSholes(currentPrice, strikePrice, volatility, riskFreeRate, expiration)\nprint(f'Call Price: {callPrice:0.2f}')\nprint(f'Put Price: {putPrice:0.2f}')",
      "execution_count": 20,
      "outputs": [
        {
          "output_type": "stream",
          "text": "Call Price: 14.59\nPut Price: 16.24\n",
          "name": "stdout"
        }
      ]
    },
    {
      "metadata": {
        "trusted": true
      },
      "cell_type": "code",
      "source": "# If we wanted to try a number of volatilities we could just as easily put these in an array and then call them \noptions_12_20 = pd.DataFrame({'vol':np.arange(0.12,0.20,0.01)})\noptions_12_20['bs'] = options_12_20['vol'].apply(lambda x: BlackSholes(currentPrice, strikePrice, x, riskFreeRate,expiration))\n\n# Just a bit of magic to get the values returned from a tuple into two columns\noptions_12_20[['call', 'put']] = pd.DataFrame(options_12_20['bs'].tolist(), index=options_12_20.index)\noptions_12_20.drop(columns='bs',inplace=True)\noptions_12_20['actual call'] = 14.69\noptions_12_20['actual put'] = 21.80\n\noptions_12_20",
      "execution_count": 21,
      "outputs": [
        {
          "output_type": "execute_result",
          "execution_count": 21,
          "data": {
            "text/html": "<div>\n<style scoped>\n    .dataframe tbody tr th:only-of-type {\n        vertical-align: middle;\n    }\n\n    .dataframe tbody tr th {\n        vertical-align: top;\n    }\n\n    .dataframe thead th {\n        text-align: right;\n    }\n</style>\n<table border=\"1\" class=\"dataframe\">\n  <thead>\n    <tr style=\"text-align: right;\">\n      <th></th>\n      <th>vol</th>\n      <th>call</th>\n      <th>put</th>\n      <th>actual call</th>\n      <th>actual put</th>\n    </tr>\n  </thead>\n  <tbody>\n    <tr>\n      <th>0</th>\n      <td>0.12</td>\n      <td>13.979707</td>\n      <td>15.624720</td>\n      <td>14.69</td>\n      <td>21.8</td>\n    </tr>\n    <tr>\n      <th>1</th>\n      <td>0.13</td>\n      <td>15.209467</td>\n      <td>16.854480</td>\n      <td>14.69</td>\n      <td>21.8</td>\n    </tr>\n    <tr>\n      <th>2</th>\n      <td>0.14</td>\n      <td>16.439046</td>\n      <td>18.084058</td>\n      <td>14.69</td>\n      <td>21.8</td>\n    </tr>\n    <tr>\n      <th>3</th>\n      <td>0.15</td>\n      <td>17.668383</td>\n      <td>19.313396</td>\n      <td>14.69</td>\n      <td>21.8</td>\n    </tr>\n    <tr>\n      <th>4</th>\n      <td>0.16</td>\n      <td>18.897431</td>\n      <td>20.542443</td>\n      <td>14.69</td>\n      <td>21.8</td>\n    </tr>\n    <tr>\n      <th>5</th>\n      <td>0.17</td>\n      <td>20.126144</td>\n      <td>21.771156</td>\n      <td>14.69</td>\n      <td>21.8</td>\n    </tr>\n    <tr>\n      <th>6</th>\n      <td>0.18</td>\n      <td>21.354481</td>\n      <td>22.999494</td>\n      <td>14.69</td>\n      <td>21.8</td>\n    </tr>\n    <tr>\n      <th>7</th>\n      <td>0.19</td>\n      <td>22.582406</td>\n      <td>24.227419</td>\n      <td>14.69</td>\n      <td>21.8</td>\n    </tr>\n    <tr>\n      <th>8</th>\n      <td>0.20</td>\n      <td>23.809883</td>\n      <td>25.454896</td>\n      <td>14.69</td>\n      <td>21.8</td>\n    </tr>\n  </tbody>\n</table>\n</div>",
            "text/plain": "    vol       call        put  actual call  actual put\n0  0.12  13.979707  15.624720        14.69        21.8\n1  0.13  15.209467  16.854480        14.69        21.8\n2  0.14  16.439046  18.084058        14.69        21.8\n3  0.15  17.668383  19.313396        14.69        21.8\n4  0.16  18.897431  20.542443        14.69        21.8\n5  0.17  20.126144  21.771156        14.69        21.8\n6  0.18  21.354481  22.999494        14.69        21.8\n7  0.19  22.582406  24.227419        14.69        21.8\n8  0.20  23.809883  25.454896        14.69        21.8"
          },
          "metadata": {}
        }
      ]
    },
    {
      "metadata": {
        "trusted": true
      },
      "cell_type": "code",
      "source": "# and then we already know how to plot\noptions_12_20.plot(x='vol');",
      "execution_count": null,
      "outputs": []
    },
    {
      "metadata": {},
      "cell_type": "markdown",
      "source": "# Okay, time to get a bit more clever\n\nWe can do something called multi-level indexing.  In other words, we might want to get the put and call prices for a range of dates and volatilities rather than just just a single day.  We can also calculate the prices a number of different strike prices, then we'll have a whole slew of data to pick from.\n\nSo we start by creating a list of dates when the options expire.  For SPY this means every Mon-Wed-Fri, for other stocks it's usually every Friday for the next 6 weeks then the third Friday of the month.  For our purposes we are just going to look at options that expire on monthly cycles for the next 12 months.  Keep in mind that we have to take into account holidays, so if the Friday expiration falls on a holiday, then it expires on Thursday.\n\nFor this handy little bit of help, we are going to use [dateutil](https://dateutil.readthedocs.io/en/stable/) and also we want to handle holidays so we'll depend on [holidays](https://pypi.org/project/holidays/).  We've got the handy library dateutil to allows us to do timemath relatively easily (that is calculate the 3rd Friday of the month for the next 12 months).  Then we'll make sure that these days don't fall on a holiday, in which case, we need to expire on Thursday instead."
    },
    {
      "metadata": {
        "trusted": true
      },
      "cell_type": "code",
      "source": "# Start with figuring out the options dates (this says, starting today, give me every 3rd Friday of the month for a year)\nexpiration_dates = [dt.date() for dt in rrule(MONTHLY, count=12, byweekday=FR(3))]\nus_holidays = holidays.UnitedStates()\nexpiration_dates = [x-timedelta(-1) if x else x in us_holidays for x in expiration_dates]\n\n# Now, give me a range of volatilities the first parameter is start, second is end, third is step\n# due to a \"bug\" in numpy's range function, I have to first move by ints then divide by 100\nvolatilities = np.arange(12,20) * 0.01\n\n# And if we like we can also add strike prices, let's start with the stock's current price and give ourselves 10 options\n# in either direction, in 2.50 increments rounded to the nearest $2.50 above or below the price...  \n# So for the case where a stock is $86, we'll start going down from $85, $82.50.... and up from $85\nstrike_midpoint=2.5 * round(currentPrice/2.5)\nstrike_range = np.arange(strike_midpoint-25,strike_midpoint+25,2.5)\n\nindexes = pd.MultiIndex.from_product([expiration_dates,strike_range, volatilities],names=['Expiration', 'Strike','Volatility'])\ndf_options = pd.DataFrame(index=indexes)\ndf_options.reset_index(inplace=True)\ndf_options.head()\n",
      "execution_count": 64,
      "outputs": [
        {
          "output_type": "execute_result",
          "execution_count": 64,
          "data": {
            "text/html": "<div>\n<style scoped>\n    .dataframe tbody tr th:only-of-type {\n        vertical-align: middle;\n    }\n\n    .dataframe tbody tr th {\n        vertical-align: top;\n    }\n\n    .dataframe thead th {\n        text-align: right;\n    }\n</style>\n<table border=\"1\" class=\"dataframe\">\n  <thead>\n    <tr style=\"text-align: right;\">\n      <th></th>\n      <th>Expiration</th>\n      <th>Strike</th>\n      <th>Volatility</th>\n    </tr>\n  </thead>\n  <tbody>\n    <tr>\n      <th>0</th>\n      <td>2020-03-21</td>\n      <td>307.5</td>\n      <td>0.12</td>\n    </tr>\n    <tr>\n      <th>1</th>\n      <td>2020-03-21</td>\n      <td>307.5</td>\n      <td>0.13</td>\n    </tr>\n    <tr>\n      <th>2</th>\n      <td>2020-03-21</td>\n      <td>307.5</td>\n      <td>0.14</td>\n    </tr>\n    <tr>\n      <th>3</th>\n      <td>2020-03-21</td>\n      <td>307.5</td>\n      <td>0.15</td>\n    </tr>\n    <tr>\n      <th>4</th>\n      <td>2020-03-21</td>\n      <td>307.5</td>\n      <td>0.16</td>\n    </tr>\n  </tbody>\n</table>\n</div>",
            "text/plain": "  Expiration  Strike  Volatility\n0 2020-03-21   307.5        0.12\n1 2020-03-21   307.5        0.13\n2 2020-03-21   307.5        0.14\n3 2020-03-21   307.5        0.15\n4 2020-03-21   307.5        0.16"
          },
          "metadata": {}
        }
      ]
    },
    {
      "metadata": {},
      "cell_type": "markdown",
      "source": "## Calculating values\n\nNow we need to go through the effort to calculate BS prices for each of these three variables strike price, expiration, and volatility.  We want to do what we did before with the getting the call prices and put prices so that we can determine which ones make the most sense to us.\n"
    },
    {
      "metadata": {
        "trusted": true
      },
      "cell_type": "code",
      "source": "# This code says..  for every row in the data, apply the BlackSholes function with the Strike, Volatility, and Expiration\n# the results should be put into two columns called Call and Put upon the return\ndf_options[['Call','Put']] = df_options.apply(lambda x: BlackSholes(currentPrice, \n                                                          x['Strike'], \n                                                          x['Volatility'], \n                                                          riskFreeRate, \n                                                          x['Expiration']),\n                                              axis=1, result_type='expand')\n\n# And just so that we are back where we started, let's recreate our multi-index\ndf_options['Expiration'] = pd.to_datetime(df_options['Expiration'])\ndf_options.set_index(['Expiration', 'Strike', 'Volatility'], inplace=True)\ndf_options.head()",
      "execution_count": 65,
      "outputs": [
        {
          "output_type": "execute_result",
          "execution_count": 65,
          "data": {
            "text/html": "<div>\n<style scoped>\n    .dataframe tbody tr th:only-of-type {\n        vertical-align: middle;\n    }\n\n    .dataframe tbody tr th {\n        vertical-align: top;\n    }\n\n    .dataframe thead th {\n        text-align: right;\n    }\n</style>\n<table border=\"1\" class=\"dataframe\">\n  <thead>\n    <tr style=\"text-align: right;\">\n      <th></th>\n      <th></th>\n      <th></th>\n      <th>Call</th>\n      <th>Put</th>\n    </tr>\n    <tr>\n      <th>Expiration</th>\n      <th>Strike</th>\n      <th>Volatility</th>\n      <th></th>\n      <th></th>\n    </tr>\n  </thead>\n  <tbody>\n    <tr>\n      <th rowspan=\"5\" valign=\"top\">2020-03-21</th>\n      <th rowspan=\"5\" valign=\"top\">307.5</th>\n      <th>0.12</th>\n      <td>26.356063</td>\n      <td>0.019614</td>\n    </tr>\n    <tr>\n      <th>0.13</th>\n      <td>26.374715</td>\n      <td>0.038266</td>\n    </tr>\n    <tr>\n      <th>0.14</th>\n      <td>26.402978</td>\n      <td>0.066529</td>\n    </tr>\n    <tr>\n      <th>0.15</th>\n      <td>26.442416</td>\n      <td>0.105967</td>\n    </tr>\n    <tr>\n      <th>0.16</th>\n      <td>26.494134</td>\n      <td>0.157685</td>\n    </tr>\n  </tbody>\n</table>\n</div>",
            "text/plain": "                                   Call       Put\nExpiration Strike Volatility                     \n2020-03-21 307.5  0.12        26.356063  0.019614\n                  0.13        26.374715  0.038266\n                  0.14        26.402978  0.066529\n                  0.15        26.442416  0.105967\n                  0.16        26.494134  0.157685"
          },
          "metadata": {}
        }
      ]
    },
    {
      "metadata": {
        "trusted": true
      },
      "cell_type": "code",
      "source": "# Now we can do business on our dataframe, let's say we want to look at all the prices for the May expiration\ndf_options.loc[('05-2020')]",
      "execution_count": 66,
      "outputs": [
        {
          "output_type": "execute_result",
          "execution_count": 66,
          "data": {
            "text/html": "<div>\n<style scoped>\n    .dataframe tbody tr th:only-of-type {\n        vertical-align: middle;\n    }\n\n    .dataframe tbody tr th {\n        vertical-align: top;\n    }\n\n    .dataframe thead th {\n        text-align: right;\n    }\n</style>\n<table border=\"1\" class=\"dataframe\">\n  <thead>\n    <tr style=\"text-align: right;\">\n      <th></th>\n      <th></th>\n      <th></th>\n      <th>Call</th>\n      <th>Put</th>\n    </tr>\n    <tr>\n      <th>Expiration</th>\n      <th>Strike</th>\n      <th>Volatility</th>\n      <th></th>\n      <th></th>\n    </tr>\n  </thead>\n  <tbody>\n    <tr>\n      <th rowspan=\"61\" valign=\"top\">2020-05-16</th>\n      <th rowspan=\"8\" valign=\"top\">307.5</th>\n      <th>0.12</th>\n      <td>27.692877</td>\n      <td>0.556453</td>\n    </tr>\n    <tr>\n      <th>0.13</th>\n      <td>27.913237</td>\n      <td>0.776812</td>\n    </tr>\n    <tr>\n      <th>0.14</th>\n      <td>28.167879</td>\n      <td>1.031454</td>\n    </tr>\n    <tr>\n      <th>0.15</th>\n      <td>28.453767</td>\n      <td>1.317343</td>\n    </tr>\n    <tr>\n      <th>0.16</th>\n      <td>28.767855</td>\n      <td>1.631430</td>\n    </tr>\n    <tr>\n      <th>0.17</th>\n      <td>29.107243</td>\n      <td>1.970819</td>\n    </tr>\n    <tr>\n      <th>0.18</th>\n      <td>29.469265</td>\n      <td>2.332841</td>\n    </tr>\n    <tr>\n      <th>0.19</th>\n      <td>29.851510</td>\n      <td>2.715085</td>\n    </tr>\n    <tr>\n      <th rowspan=\"8\" valign=\"top\">310.0</th>\n      <th>0.12</th>\n      <td>25.410142</td>\n      <td>0.764072</td>\n    </tr>\n    <tr>\n      <th>0.13</th>\n      <td>25.676131</td>\n      <td>1.030061</td>\n    </tr>\n    <tr>\n      <th>0.14</th>\n      <td>25.975547</td>\n      <td>1.329477</td>\n    </tr>\n    <tr>\n      <th>0.15</th>\n      <td>26.304715</td>\n      <td>1.658645</td>\n    </tr>\n    <tr>\n      <th>0.16</th>\n      <td>26.660225</td>\n      <td>2.014154</td>\n    </tr>\n    <tr>\n      <th>0.17</th>\n      <td>27.039002</td>\n      <td>2.392932</td>\n    </tr>\n    <tr>\n      <th>0.18</th>\n      <td>27.438325</td>\n      <td>2.792255</td>\n    </tr>\n    <tr>\n      <th>0.19</th>\n      <td>27.855806</td>\n      <td>3.209736</td>\n    </tr>\n    <tr>\n      <th rowspan=\"8\" valign=\"top\">312.5</th>\n      <th>0.12</th>\n      <td>23.186568</td>\n      <td>1.030852</td>\n    </tr>\n    <tr>\n      <th>0.13</th>\n      <td>23.501381</td>\n      <td>1.345665</td>\n    </tr>\n    <tr>\n      <th>0.14</th>\n      <td>23.847545</td>\n      <td>1.691829</td>\n    </tr>\n    <tr>\n      <th>0.15</th>\n      <td>24.221030</td>\n      <td>2.065314</td>\n    </tr>\n    <tr>\n      <th>0.16</th>\n      <td>24.618292</td>\n      <td>2.462576</td>\n    </tr>\n    <tr>\n      <th>0.17</th>\n      <td>25.036265</td>\n      <td>2.880549</td>\n    </tr>\n    <tr>\n      <th>0.18</th>\n      <td>25.472313</td>\n      <td>3.316597</td>\n    </tr>\n    <tr>\n      <th>0.19</th>\n      <td>25.924179</td>\n      <td>3.768463</td>\n    </tr>\n    <tr>\n      <th rowspan=\"6\" valign=\"top\">315.0</th>\n      <th>0.12</th>\n      <td>21.032831</td>\n      <td>1.367469</td>\n    </tr>\n    <tr>\n      <th>0.13</th>\n      <td>21.398331</td>\n      <td>1.732969</td>\n    </tr>\n    <tr>\n      <th>0.14</th>\n      <td>21.791990</td>\n      <td>2.126628</td>\n    </tr>\n    <tr>\n      <th>0.15</th>\n      <td>22.209731</td>\n      <td>2.544369</td>\n    </tr>\n    <tr>\n      <th>0.16</th>\n      <td>22.648115</td>\n      <td>2.982754</td>\n    </tr>\n    <tr>\n      <th>0.17</th>\n      <td>23.104258</td>\n      <td>3.438897</td>\n    </tr>\n    <tr>\n      <th>...</th>\n      <th>...</th>\n      <td>...</td>\n      <td>...</td>\n    </tr>\n    <tr>\n      <th rowspan=\"6\" valign=\"top\">347.5</th>\n      <th>0.14</th>\n      <td>4.077530</td>\n      <td>16.786774</td>\n    </tr>\n    <tr>\n      <th>0.15</th>\n      <td>4.635458</td>\n      <td>17.344702</td>\n    </tr>\n    <tr>\n      <th>0.16</th>\n      <td>5.203646</td>\n      <td>17.912890</td>\n    </tr>\n    <tr>\n      <th>0.17</th>\n      <td>5.780413</td>\n      <td>18.489657</td>\n    </tr>\n    <tr>\n      <th>0.18</th>\n      <td>6.364417</td>\n      <td>19.073661</td>\n    </tr>\n    <tr>\n      <th>0.19</th>\n      <td>6.954573</td>\n      <td>19.663816</td>\n    </tr>\n    <tr>\n      <th rowspan=\"8\" valign=\"top\">350.0</th>\n      <th>0.12</th>\n      <td>2.433053</td>\n      <td>17.632651</td>\n    </tr>\n    <tr>\n      <th>0.13</th>\n      <td>2.923094</td>\n      <td>18.122693</td>\n    </tr>\n    <tr>\n      <th>0.14</th>\n      <td>3.433085</td>\n      <td>18.632683</td>\n    </tr>\n    <tr>\n      <th>0.15</th>\n      <td>3.959610</td>\n      <td>19.159208</td>\n    </tr>\n    <tr>\n      <th>0.16</th>\n      <td>4.499954</td>\n      <td>19.699552</td>\n    </tr>\n    <tr>\n      <th>0.17</th>\n      <td>5.051941</td>\n      <td>20.251539</td>\n    </tr>\n    <tr>\n      <th>0.18</th>\n      <td>5.613810</td>\n      <td>20.813408</td>\n    </tr>\n    <tr>\n      <th>0.19</th>\n      <td>6.184127</td>\n      <td>21.383725</td>\n    </tr>\n    <tr>\n      <th rowspan=\"8\" valign=\"top\">352.5</th>\n      <th>0.12</th>\n      <td>1.954035</td>\n      <td>19.643987</td>\n    </tr>\n    <tr>\n      <th>0.13</th>\n      <td>2.400580</td>\n      <td>20.090533</td>\n    </tr>\n    <tr>\n      <th>0.14</th>\n      <td>2.871748</td>\n      <td>20.561701</td>\n    </tr>\n    <tr>\n      <th>0.15</th>\n      <td>3.363584</td>\n      <td>21.053536</td>\n    </tr>\n    <tr>\n      <th>0.16</th>\n      <td>3.872871</td>\n      <td>21.562823</td>\n    </tr>\n    <tr>\n      <th>0.17</th>\n      <td>4.396984</td>\n      <td>22.086936</td>\n    </tr>\n    <tr>\n      <th>0.18</th>\n      <td>4.933771</td>\n      <td>22.623724</td>\n    </tr>\n    <tr>\n      <th>0.19</th>\n      <td>5.481459</td>\n      <td>23.171412</td>\n    </tr>\n    <tr>\n      <th rowspan=\"8\" valign=\"top\">355.0</th>\n      <th>0.12</th>\n      <td>1.554778</td>\n      <td>21.735085</td>\n    </tr>\n    <tr>\n      <th>0.13</th>\n      <td>1.956257</td>\n      <td>22.136564</td>\n    </tr>\n    <tr>\n      <th>0.14</th>\n      <td>2.386569</td>\n      <td>22.566875</td>\n    </tr>\n    <tr>\n      <th>0.15</th>\n      <td>2.841429</td>\n      <td>23.021735</td>\n    </tr>\n    <tr>\n      <th>0.16</th>\n      <td>3.317258</td>\n      <td>23.497564</td>\n    </tr>\n    <tr>\n      <th>0.17</th>\n      <td>3.811072</td>\n      <td>23.991379</td>\n    </tr>\n    <tr>\n      <th>0.18</th>\n      <td>4.320384</td>\n      <td>24.500691</td>\n    </tr>\n    <tr>\n      <th>0.19</th>\n      <td>4.843114</td>\n      <td>25.023420</td>\n    </tr>\n  </tbody>\n</table>\n<p>160 rows × 2 columns</p>\n</div>",
            "text/plain": "                                   Call        Put\nExpiration Strike Volatility                      \n2020-05-16 307.5  0.12        27.692877   0.556453\n                  0.13        27.913237   0.776812\n                  0.14        28.167879   1.031454\n                  0.15        28.453767   1.317343\n                  0.16        28.767855   1.631430\n                  0.17        29.107243   1.970819\n                  0.18        29.469265   2.332841\n                  0.19        29.851510   2.715085\n           310.0  0.12        25.410142   0.764072\n                  0.13        25.676131   1.030061\n                  0.14        25.975547   1.329477\n                  0.15        26.304715   1.658645\n                  0.16        26.660225   2.014154\n                  0.17        27.039002   2.392932\n                  0.18        27.438325   2.792255\n                  0.19        27.855806   3.209736\n           312.5  0.12        23.186568   1.030852\n                  0.13        23.501381   1.345665\n                  0.14        23.847545   1.691829\n                  0.15        24.221030   2.065314\n                  0.16        24.618292   2.462576\n                  0.17        25.036265   2.880549\n                  0.18        25.472313   3.316597\n                  0.19        25.924179   3.768463\n           315.0  0.12        21.032831   1.367469\n                  0.13        21.398331   1.732969\n                  0.14        21.791990   2.126628\n                  0.15        22.209731   2.544369\n                  0.16        22.648115   2.982754\n                  0.17        23.104258   3.438897\n...                                 ...        ...\n           347.5  0.14         4.077530  16.786774\n                  0.15         4.635458  17.344702\n                  0.16         5.203646  17.912890\n                  0.17         5.780413  18.489657\n                  0.18         6.364417  19.073661\n                  0.19         6.954573  19.663816\n           350.0  0.12         2.433053  17.632651\n                  0.13         2.923094  18.122693\n                  0.14         3.433085  18.632683\n                  0.15         3.959610  19.159208\n                  0.16         4.499954  19.699552\n                  0.17         5.051941  20.251539\n                  0.18         5.613810  20.813408\n                  0.19         6.184127  21.383725\n           352.5  0.12         1.954035  19.643987\n                  0.13         2.400580  20.090533\n                  0.14         2.871748  20.561701\n                  0.15         3.363584  21.053536\n                  0.16         3.872871  21.562823\n                  0.17         4.396984  22.086936\n                  0.18         4.933771  22.623724\n                  0.19         5.481459  23.171412\n           355.0  0.12         1.554778  21.735085\n                  0.13         1.956257  22.136564\n                  0.14         2.386569  22.566875\n                  0.15         2.841429  23.021735\n                  0.16         3.317258  23.497564\n                  0.17         3.811072  23.991379\n                  0.18         4.320384  24.500691\n                  0.19         4.843114  25.023420\n\n[160 rows x 2 columns]"
          },
          "metadata": {}
        }
      ]
    },
    {
      "metadata": {
        "trusted": true
      },
      "cell_type": "code",
      "source": "# Or what if we only want the values in May 2020 that have a strike of 352.5\ndf_options.loc[('5-2020',352.5),]",
      "execution_count": 67,
      "outputs": [
        {
          "output_type": "execute_result",
          "execution_count": 67,
          "data": {
            "text/html": "<div>\n<style scoped>\n    .dataframe tbody tr th:only-of-type {\n        vertical-align: middle;\n    }\n\n    .dataframe tbody tr th {\n        vertical-align: top;\n    }\n\n    .dataframe thead th {\n        text-align: right;\n    }\n</style>\n<table border=\"1\" class=\"dataframe\">\n  <thead>\n    <tr style=\"text-align: right;\">\n      <th></th>\n      <th></th>\n      <th></th>\n      <th>Call</th>\n      <th>Put</th>\n    </tr>\n    <tr>\n      <th>Expiration</th>\n      <th>Strike</th>\n      <th>Volatility</th>\n      <th></th>\n      <th></th>\n    </tr>\n  </thead>\n  <tbody>\n    <tr>\n      <th rowspan=\"8\" valign=\"top\">2020-05-16</th>\n      <th rowspan=\"8\" valign=\"top\">352.5</th>\n      <th>0.12</th>\n      <td>1.954035</td>\n      <td>19.643987</td>\n    </tr>\n    <tr>\n      <th>0.13</th>\n      <td>2.400580</td>\n      <td>20.090533</td>\n    </tr>\n    <tr>\n      <th>0.14</th>\n      <td>2.871748</td>\n      <td>20.561701</td>\n    </tr>\n    <tr>\n      <th>0.15</th>\n      <td>3.363584</td>\n      <td>21.053536</td>\n    </tr>\n    <tr>\n      <th>0.16</th>\n      <td>3.872871</td>\n      <td>21.562823</td>\n    </tr>\n    <tr>\n      <th>0.17</th>\n      <td>4.396984</td>\n      <td>22.086936</td>\n    </tr>\n    <tr>\n      <th>0.18</th>\n      <td>4.933771</td>\n      <td>22.623724</td>\n    </tr>\n    <tr>\n      <th>0.19</th>\n      <td>5.481459</td>\n      <td>23.171412</td>\n    </tr>\n  </tbody>\n</table>\n</div>",
            "text/plain": "                                  Call        Put\nExpiration Strike Volatility                     \n2020-05-16 352.5  0.12        1.954035  19.643987\n                  0.13        2.400580  20.090533\n                  0.14        2.871748  20.561701\n                  0.15        3.363584  21.053536\n                  0.16        3.872871  21.562823\n                  0.17        4.396984  22.086936\n                  0.18        4.933771  22.623724\n                  0.19        5.481459  23.171412"
          },
          "metadata": {}
        }
      ]
    },
    {
      "metadata": {
        "trusted": true
      },
      "cell_type": "code",
      "source": "# We can also look at all the options with a volatility that we believe in\ndf_options.xs(0.16,axis=0,level=2, drop_level=False)",
      "execution_count": 76,
      "outputs": [
        {
          "output_type": "execute_result",
          "execution_count": 76,
          "data": {
            "text/html": "<div>\n<style scoped>\n    .dataframe tbody tr th:only-of-type {\n        vertical-align: middle;\n    }\n\n    .dataframe tbody tr th {\n        vertical-align: top;\n    }\n\n    .dataframe thead th {\n        text-align: right;\n    }\n</style>\n<table border=\"1\" class=\"dataframe\">\n  <thead>\n    <tr style=\"text-align: right;\">\n      <th></th>\n      <th></th>\n      <th></th>\n      <th>Call</th>\n      <th>Put</th>\n    </tr>\n    <tr>\n      <th>Expiration</th>\n      <th>Strike</th>\n      <th>Volatility</th>\n      <th></th>\n      <th></th>\n    </tr>\n  </thead>\n  <tbody>\n    <tr>\n      <th rowspan=\"20\" valign=\"top\">2020-03-21</th>\n      <th>307.5</th>\n      <th>0.16</th>\n      <td>26.494134</td>\n      <td>0.157685</td>\n    </tr>\n    <tr>\n      <th>310.0</th>\n      <th>0.16</th>\n      <td>24.092403</td>\n      <td>0.252812</td>\n    </tr>\n    <tr>\n      <th>312.5</th>\n      <th>0.16</th>\n      <td>21.735678</td>\n      <td>0.392946</td>\n    </tr>\n    <tr>\n      <th>315.0</th>\n      <th>0.16</th>\n      <td>19.438736</td>\n      <td>0.592862</td>\n    </tr>\n    <tr>\n      <th>317.5</th>\n      <th>0.16</th>\n      <td>17.218418</td>\n      <td>0.869402</td>\n    </tr>\n    <tr>\n      <th>320.0</th>\n      <th>0.16</th>\n      <td>15.092945</td>\n      <td>1.240787</td>\n    </tr>\n    <tr>\n      <th>322.5</th>\n      <th>0.16</th>\n      <td>13.080939</td>\n      <td>1.725639</td>\n    </tr>\n    <tr>\n      <th>325.0</th>\n      <th>0.16</th>\n      <td>11.200231</td>\n      <td>2.341789</td>\n    </tr>\n    <tr>\n      <th>327.5</th>\n      <th>0.16</th>\n      <td>9.466586</td>\n      <td>3.105003</td>\n    </tr>\n    <tr>\n      <th>330.0</th>\n      <th>0.16</th>\n      <td>7.892508</td>\n      <td>4.027782</td>\n    </tr>\n    <tr>\n      <th>332.5</th>\n      <th>0.16</th>\n      <td>6.486255</td>\n      <td>5.118388</td>\n    </tr>\n    <tr>\n      <th>335.0</th>\n      <th>0.16</th>\n      <td>5.251229</td>\n      <td>6.380219</td>\n    </tr>\n    <tr>\n      <th>337.5</th>\n      <th>0.16</th>\n      <td>4.185777</td>\n      <td>7.811626</td>\n    </tr>\n    <tr>\n      <th>340.0</th>\n      <th>0.16</th>\n      <td>3.283451</td>\n      <td>9.406159</td>\n    </tr>\n    <tr>\n      <th>342.5</th>\n      <th>0.16</th>\n      <td>2.533645</td>\n      <td>11.153210</td>\n    </tr>\n    <tr>\n      <th>345.0</th>\n      <th>0.16</th>\n      <td>1.922526</td>\n      <td>13.038949</td>\n    </tr>\n    <tr>\n      <th>347.5</th>\n      <th>0.16</th>\n      <td>1.434131</td>\n      <td>15.047413</td>\n    </tr>\n    <tr>\n      <th>350.0</th>\n      <th>0.16</th>\n      <td>1.051480</td>\n      <td>17.161619</td>\n    </tr>\n    <tr>\n      <th>352.5</th>\n      <th>0.16</th>\n      <td>0.757596</td>\n      <td>19.364594</td>\n    </tr>\n    <tr>\n      <th>355.0</th>\n      <th>0.16</th>\n      <td>0.536354</td>\n      <td>21.640210</td>\n    </tr>\n    <tr>\n      <th rowspan=\"10\" valign=\"top\">2020-04-18</th>\n      <th>307.5</th>\n      <th>0.16</th>\n      <td>27.556361</td>\n      <td>0.819664</td>\n    </tr>\n    <tr>\n      <th>310.0</th>\n      <th>0.16</th>\n      <td>25.326900</td>\n      <td>1.083807</td>\n    </tr>\n    <tr>\n      <th>312.5</th>\n      <th>0.16</th>\n      <td>23.161520</td>\n      <td>1.412031</td>\n    </tr>\n    <tr>\n      <th>315.0</th>\n      <th>0.16</th>\n      <td>21.069585</td>\n      <td>1.813700</td>\n    </tr>\n    <tr>\n      <th>317.5</th>\n      <th>0.16</th>\n      <td>19.060363</td>\n      <td>2.298082</td>\n    </tr>\n    <tr>\n      <th>320.0</th>\n      <th>0.16</th>\n      <td>17.142707</td>\n      <td>2.874030</td>\n    </tr>\n    <tr>\n      <th>322.5</th>\n      <th>0.16</th>\n      <td>15.324732</td>\n      <td>3.549659</td>\n    </tr>\n    <tr>\n      <th>325.0</th>\n      <th>0.16</th>\n      <td>13.613511</td>\n      <td>4.332042</td>\n    </tr>\n    <tr>\n      <th>327.5</th>\n      <th>0.16</th>\n      <td>12.014805</td>\n      <td>5.226940</td>\n    </tr>\n    <tr>\n      <th>330.0</th>\n      <th>0.16</th>\n      <td>10.532842</td>\n      <td>6.238581</td>\n    </tr>\n    <tr>\n      <th>...</th>\n      <th>...</th>\n      <th>...</th>\n      <td>...</td>\n      <td>...</td>\n    </tr>\n    <tr>\n      <th rowspan=\"10\" valign=\"top\">2021-01-16</th>\n      <th>332.5</th>\n      <th>0.16</th>\n      <td>23.114064</td>\n      <td>17.123159</td>\n    </tr>\n    <tr>\n      <th>335.0</th>\n      <th>0.16</th>\n      <td>21.864384</td>\n      <td>18.335578</td>\n    </tr>\n    <tr>\n      <th>337.5</th>\n      <th>0.16</th>\n      <td>20.663023</td>\n      <td>19.596315</td>\n    </tr>\n    <tr>\n      <th>340.0</th>\n      <th>0.16</th>\n      <td>19.509551</td>\n      <td>20.904941</td>\n    </tr>\n    <tr>\n      <th>342.5</th>\n      <th>0.16</th>\n      <td>18.403434</td>\n      <td>22.260923</td>\n    </tr>\n    <tr>\n      <th>345.0</th>\n      <th>0.16</th>\n      <td>17.344039</td>\n      <td>23.663627</td>\n    </tr>\n    <tr>\n      <th>347.5</th>\n      <th>0.16</th>\n      <td>16.330639</td>\n      <td>25.112325</td>\n    </tr>\n    <tr>\n      <th>350.0</th>\n      <th>0.16</th>\n      <td>15.362419</td>\n      <td>26.606204</td>\n    </tr>\n    <tr>\n      <th>352.5</th>\n      <th>0.16</th>\n      <td>14.438488</td>\n      <td>28.144371</td>\n    </tr>\n    <tr>\n      <th>355.0</th>\n      <th>0.16</th>\n      <td>13.557879</td>\n      <td>29.725861</td>\n    </tr>\n    <tr>\n      <th rowspan=\"20\" valign=\"top\">2021-02-20</th>\n      <th>307.5</th>\n      <th>0.16</th>\n      <td>39.447312</td>\n      <td>8.342158</td>\n    </tr>\n    <tr>\n      <th>310.0</th>\n      <th>0.16</th>\n      <td>37.740322</td>\n      <td>9.093255</td>\n    </tr>\n    <tr>\n      <th>312.5</th>\n      <th>0.16</th>\n      <td>36.077425</td>\n      <td>9.888447</td>\n    </tr>\n    <tr>\n      <th>315.0</th>\n      <th>0.16</th>\n      <td>34.459289</td>\n      <td>10.728399</td>\n    </tr>\n    <tr>\n      <th>317.5</th>\n      <th>0.16</th>\n      <td>32.886472</td>\n      <td>11.613670</td>\n    </tr>\n    <tr>\n      <th>320.0</th>\n      <th>0.16</th>\n      <td>31.359423</td>\n      <td>12.544709</td>\n    </tr>\n    <tr>\n      <th>322.5</th>\n      <th>0.16</th>\n      <td>29.878478</td>\n      <td>13.521853</td>\n    </tr>\n    <tr>\n      <th>325.0</th>\n      <th>0.16</th>\n      <td>28.443864</td>\n      <td>14.545327</td>\n    </tr>\n    <tr>\n      <th>327.5</th>\n      <th>0.16</th>\n      <td>27.055697</td>\n      <td>15.615248</td>\n    </tr>\n    <tr>\n      <th>330.0</th>\n      <th>0.16</th>\n      <td>25.713985</td>\n      <td>16.731624</td>\n    </tr>\n    <tr>\n      <th>332.5</th>\n      <th>0.16</th>\n      <td>24.418629</td>\n      <td>17.894356</td>\n    </tr>\n    <tr>\n      <th>335.0</th>\n      <th>0.16</th>\n      <td>23.169430</td>\n      <td>19.103245</td>\n    </tr>\n    <tr>\n      <th>337.5</th>\n      <th>0.16</th>\n      <td>21.966087</td>\n      <td>20.357990</td>\n    </tr>\n    <tr>\n      <th>340.0</th>\n      <th>0.16</th>\n      <td>20.808205</td>\n      <td>21.658197</td>\n    </tr>\n    <tr>\n      <th>342.5</th>\n      <th>0.16</th>\n      <td>19.695300</td>\n      <td>23.003379</td>\n    </tr>\n    <tr>\n      <th>345.0</th>\n      <th>0.16</th>\n      <td>18.626800</td>\n      <td>24.392968</td>\n    </tr>\n    <tr>\n      <th>347.5</th>\n      <th>0.16</th>\n      <td>17.602055</td>\n      <td>25.826311</td>\n    </tr>\n    <tr>\n      <th>350.0</th>\n      <th>0.16</th>\n      <td>16.620340</td>\n      <td>27.302684</td>\n    </tr>\n    <tr>\n      <th>352.5</th>\n      <th>0.16</th>\n      <td>15.680862</td>\n      <td>28.821294</td>\n    </tr>\n    <tr>\n      <th>355.0</th>\n      <th>0.16</th>\n      <td>14.782764</td>\n      <td>30.381285</td>\n    </tr>\n  </tbody>\n</table>\n<p>240 rows × 2 columns</p>\n</div>",
            "text/plain": "                                   Call        Put\nExpiration Strike Volatility                      \n2020-03-21 307.5  0.16        26.494134   0.157685\n           310.0  0.16        24.092403   0.252812\n           312.5  0.16        21.735678   0.392946\n           315.0  0.16        19.438736   0.592862\n           317.5  0.16        17.218418   0.869402\n           320.0  0.16        15.092945   1.240787\n           322.5  0.16        13.080939   1.725639\n           325.0  0.16        11.200231   2.341789\n           327.5  0.16         9.466586   3.105003\n           330.0  0.16         7.892508   4.027782\n           332.5  0.16         6.486255   5.118388\n           335.0  0.16         5.251229   6.380219\n           337.5  0.16         4.185777   7.811626\n           340.0  0.16         3.283451   9.406159\n           342.5  0.16         2.533645  11.153210\n           345.0  0.16         1.922526  13.038949\n           347.5  0.16         1.434131  15.047413\n           350.0  0.16         1.051480  17.161619\n           352.5  0.16         0.757596  19.364594\n           355.0  0.16         0.536354  21.640210\n2020-04-18 307.5  0.16        27.556361   0.819664\n           310.0  0.16        25.326900   1.083807\n           312.5  0.16        23.161520   1.412031\n           315.0  0.16        21.069585   1.813700\n           317.5  0.16        19.060363   2.298082\n           320.0  0.16        17.142707   2.874030\n           322.5  0.16        15.324732   3.549659\n           325.0  0.16        13.613511   4.332042\n           327.5  0.16        12.014805   5.226940\n           330.0  0.16        10.532842   6.238581\n...                                 ...        ...\n2021-01-16 332.5  0.16        23.114064  17.123159\n           335.0  0.16        21.864384  18.335578\n           337.5  0.16        20.663023  19.596315\n           340.0  0.16        19.509551  20.904941\n           342.5  0.16        18.403434  22.260923\n           345.0  0.16        17.344039  23.663627\n           347.5  0.16        16.330639  25.112325\n           350.0  0.16        15.362419  26.606204\n           352.5  0.16        14.438488  28.144371\n           355.0  0.16        13.557879  29.725861\n2021-02-20 307.5  0.16        39.447312   8.342158\n           310.0  0.16        37.740322   9.093255\n           312.5  0.16        36.077425   9.888447\n           315.0  0.16        34.459289  10.728399\n           317.5  0.16        32.886472  11.613670\n           320.0  0.16        31.359423  12.544709\n           322.5  0.16        29.878478  13.521853\n           325.0  0.16        28.443864  14.545327\n           327.5  0.16        27.055697  15.615248\n           330.0  0.16        25.713985  16.731624\n           332.5  0.16        24.418629  17.894356\n           335.0  0.16        23.169430  19.103245\n           337.5  0.16        21.966087  20.357990\n           340.0  0.16        20.808205  21.658197\n           342.5  0.16        19.695300  23.003379\n           345.0  0.16        18.626800  24.392968\n           347.5  0.16        17.602055  25.826311\n           350.0  0.16        16.620340  27.302684\n           352.5  0.16        15.680862  28.821294\n           355.0  0.16        14.782764  30.381285\n\n[240 rows x 2 columns]"
          },
          "metadata": {}
        }
      ]
    }
  ],
  "metadata": {
    "kernelspec": {
      "name": "python36",
      "display_name": "Python 3.6",
      "language": "python"
    },
    "varInspector": {
      "window_display": false,
      "cols": {
        "lenName": 16,
        "lenType": 16,
        "lenVar": 40
      },
      "kernels_config": {
        "python": {
          "library": "var_list.py",
          "delete_cmd_prefix": "del ",
          "delete_cmd_postfix": "",
          "varRefreshCmd": "print(var_dic_list())"
        },
        "r": {
          "library": "var_list.r",
          "delete_cmd_prefix": "rm(",
          "delete_cmd_postfix": ") ",
          "varRefreshCmd": "cat(var_dic_list()) "
        }
      },
      "types_to_exclude": [
        "module",
        "function",
        "builtin_function_or_method",
        "instance",
        "_Feature"
      ]
    },
    "celltoolbar": "Tags",
    "language_info": {
      "mimetype": "text/x-python",
      "nbconvert_exporter": "python",
      "name": "python",
      "pygments_lexer": "ipython3",
      "version": "3.6.6",
      "file_extension": ".py",
      "codemirror_mode": {
        "version": 3,
        "name": "ipython"
      }
    }
  },
  "nbformat": 4,
  "nbformat_minor": 2
}