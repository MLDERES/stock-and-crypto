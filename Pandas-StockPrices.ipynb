{
  "cells": [
    {
      "metadata": {},
      "cell_type": "markdown",
      "source": [
        "# Working with Pandas using Stock Prices\n",
        "\n",
        "<p>Let's start here.  In Python, as in most programming languages, we have the ability to get very granualar in how we interact with the computer, but we can also stand on the shoulders of giants and reuse their work.  This is what we will opt to do as often as possible, other people have figured out the gory details of how to interpret the format of an Excel file so we don't have to - I'd rather depend on their work and focus on the real value add for our projects - that is spending time doing something with the data!</p>\n",
        "<br/>\n",
        "So the first thing we are going to do is ask Python to \"load\" up the code that knows how to read Exxcel files.  The code is stored in a \"module\" called pandas (keep in mind that case matters, so Pandas is not the same as pandas).  For simplicity we are going to ask Python to make the utilities in this module available to us whenever we specify the shortcut 'pd'.  (The pd shortcut is common for Pandas).  On to the first set of code."
      ]
    },
    {
      "metadata": {
        "trusted": true
      },
      "cell_type": "code",
      "source": [
        "# Because we are using an on-line environment, we need an extra library.  If running locally, we can do this once and then never again\n",
        "!pip install  plotnine"
      ],
      "execution_count": 157,
      "outputs": [
        {
          "output_type": "stream",
          "text": "Requirement already satisfied: holidays in /home/nbuser/anaconda3_501/lib/python3.6/site-packages (0.10.2)\nRequirement already satisfied: plotnine in /home/nbuser/anaconda3_501/lib/python3.6/site-packages (0.6.0)\nRequirement already satisfied: korean-lunar-calendar in /home/nbuser/anaconda3_501/lib/python3.6/site-packages (from holidays) (0.2.1)\nRequirement already satisfied: convertdate in /home/nbuser/anaconda3_501/lib/python3.6/site-packages (from holidays) (2.2.0)\nRequirement already satisfied: six in /home/nbuser/anaconda3_501/lib/python3.6/site-packages (from holidays) (1.11.0)\nRequirement already satisfied: python-dateutil in /home/nbuser/anaconda3_501/lib/python3.6/site-packages (from holidays) (2.8.1)\nRequirement already satisfied: statsmodels>=0.9.0 in /home/nbuser/anaconda3_501/lib/python3.6/site-packages (from plotnine) (0.9.0)\nRequirement already satisfied: patsy>=0.4.1 in /home/nbuser/anaconda3_501/lib/python3.6/site-packages (from plotnine) (0.5.1)\nRequirement already satisfied: mizani>=0.6.0 in /home/nbuser/anaconda3_501/lib/python3.6/site-packages (from plotnine) (0.6.0)\nRequirement already satisfied: scipy>=1.2.0 in /home/nbuser/anaconda3_501/lib/python3.6/site-packages (from plotnine) (1.4.1)\nRequirement already satisfied: descartes>=1.1.0 in /home/nbuser/anaconda3_501/lib/python3.6/site-packages (from plotnine) (1.1.0)\nRequirement already satisfied: matplotlib>=3.1.1 in /home/nbuser/anaconda3_501/lib/python3.6/site-packages (from plotnine) (3.2.1)\nRequirement already satisfied: pandas>=0.25.0 in /home/nbuser/anaconda3_501/lib/python3.6/site-packages (from plotnine) (1.0.3)\nRequirement already satisfied: numpy>=1.16.0 in /home/nbuser/anaconda3_501/lib/python3.6/site-packages (from plotnine) (1.16.2)\nRequirement already satisfied: pytz<2020,>=2014.10 in /home/nbuser/anaconda3_501/lib/python3.6/site-packages (from convertdate->holidays) (2019.3)\nRequirement already satisfied: pymeeus<=1,>=0.3.6 in /home/nbuser/anaconda3_501/lib/python3.6/site-packages (from convertdate->holidays) (0.3.7)\nRequirement already satisfied: palettable in /home/nbuser/anaconda3_501/lib/python3.6/site-packages (from mizani>=0.6.0->plotnine) (3.3.0)\nRequirement already satisfied: pyparsing!=2.0.4,!=2.1.2,!=2.1.6,>=2.0.1 in /home/nbuser/anaconda3_501/lib/python3.6/site-packages (from matplotlib>=3.1.1->plotnine) (2.3.0)\nRequirement already satisfied: cycler>=0.10 in /home/nbuser/anaconda3_501/lib/python3.6/site-packages (from matplotlib>=3.1.1->plotnine) (0.10.0)\nRequirement already satisfied: kiwisolver>=1.0.1 in /home/nbuser/anaconda3_501/lib/python3.6/site-packages (from matplotlib>=3.1.1->plotnine) (1.0.1)\nRequirement already satisfied: setuptools in /home/nbuser/anaconda3_501/lib/python3.6/site-packages (from kiwisolver>=1.0.1->matplotlib>=3.1.1->plotnine) (41.6.0)\n\u001b[33mWARNING: You are using pip version 19.3.1; however, version 20.0.2 is available.\nYou should consider upgrading via the 'pip install --upgrade pip' command.\u001b[0m\n",
          "name": "stdout"
        }
      ]
    },
    {
      "metadata": {
        "trusted": true,
        "tags": [
          "#init"
        ]
      },
      "cell_type": "code",
      "source": [
        "# Notice the '#' symbol?  This symbol tells Python that we don't want it to try to 'run' the code on this line of text\n",
        "# This syntax is called a comment, and we can use it to clarify difficult code, or provide a hint as to what the next line (or several lines)\n",
        "#  of code are meant to do\n",
        "\n",
        "# Bring the Python module that can read Excel files into our scope so that we can use it, along with a few other helpful libraries\n",
        "import pandas as pd\n",
        "from scipy import stats\n",
        "import numpy as np\n",
        "import matplotlib\n",
        "import math\n",
        "from scipy.stats import norm\n",
        "from dateutil.parser import *\n",
        "from datetime import *\n",
        "from dateutil.rrule import *\n",
        "import holidays\n",
        "pd.set_option('precision', 4)\n"
      ],
      "execution_count": 181,
      "outputs": []
    },
    {
      "metadata": {
        "trusted": true,
        "tags": [
          "=>init"
        ]
      },
      "cell_type": "code",
      "source": [
        "# The two key things that Pandas provides us is a Series datatype and a Dataframe.  A series is like a list of values that have an index like a number or\n",
        "# a date value or a string.  A dataframe is a collection of Series all which share the same index.  So you can think of a dataframe type like a spreadsheet,\n",
        "# just like when you open a spreadsheet and you see the row numbers on the left side and the column headers across the top, a pandas dataframe is similar\n",
        "df = pd.read_csv('data/spy_012920.csv',index_col='Date', infer_datetime_format=True, parse_dates=True)\n",
        "# The head function, lets use see the first few lines of the file we have loaded from the CSV file\n",
        "print(df.shape)\n",
        "df.head()"
      ],
      "execution_count": null,
      "outputs": []
    },
    {
      "metadata": {
        "trusted": true
      },
      "cell_type": "markdown",
      "source": [
        "# Plotting\n",
        "Okay, we'll we have some data, now let's explore that data a bit.  It would be helpful to create a chart - yes?"
      ]
    },
    {
      "metadata": {
        "trusted": true
      },
      "cell_type": "code",
      "source": [
        "df['Adj Close'].plot();"
      ],
      "execution_count": null,
      "outputs": []
    },
    {
      "metadata": {
        "trusted": true
      },
      "cell_type": "markdown",
      "source": [
        "# Column Calculations\n",
        "\n",
        "Looking at a chart is great, but what if what we want isn't in the data, and we have to calculate it?  For instance, what if we were interested in the percent change daily?  One way to calculate this is\n",
        "\n",
        "$\\frac{(Close - Open)}{Open}*100\\% = \\%daily change$"
      ]
    },
    {
      "metadata": {
        "trusted": true,
        "tags": [
          "=>init"
        ]
      },
      "cell_type": "code",
      "source": [
        "df['daily change pct'] = ((df['Close']-df['Open'])/df['Open'])*100\n",
        "df.head()"
      ],
      "execution_count": null,
      "outputs": []
    },
    {
      "metadata": {},
      "cell_type": "markdown",
      "source": [
        "## Determining the number of up days versus down\n",
        "\n",
        "Just looking at the data, it seems that it would be interesting to know how many days the stock went up vs going down, so we can apply an *aggregate* function to a column of data as well.  Let's count ups and downs.\n"
      ]
    },
    {
      "metadata": {
        "trusted": true
      },
      "cell_type": "code",
      "source": [
        "# This first statement creates a boolean series with True in every row where the condition is satisfied and False otherwise.\n",
        "updays_filter = df['daily change pct'] > 0\n",
        "print(updays_filter.head())\n",
        "# Then we can use this filter (also called a boolean mask) to select just the rows we are interested in and apply our aggregate function these rows\n",
        "print(df.loc[updays_filter].count())\n",
        "\n",
        "# This is helpful, but I don't need to see the same count for all of the columns, maybe just one?\n",
        "updays = df.loc[updays_filter, 'daily change pct'].count()\n",
        "print(f'\\nJust the up days please: {updays}')\n",
        "\n",
        "# That's better.  No about the down days.  We can certainly just reverse the equation like so\n",
        "downdays_filter = df['daily change pct'] < 0\n",
        "\n",
        "# But there is even a better way.  The tilde symbol (~) says to apply the boolean opposite to the series, so that True's become False\n",
        "downdays_filter = ~updays_filter\n",
        "downdays = df.loc[downdays_filter,'daily change pct'].count()\n",
        "\n",
        "\n",
        "print(f'\\n\\nUpdays {updays}.  Downdays: {downdays}')"
      ],
      "execution_count": null,
      "outputs": []
    },
    {
      "metadata": {},
      "cell_type": "markdown",
      "source": [
        "## Rolling Windows\n",
        "\n",
        "Of course, we have the ability to apply all manner of aggregate functions (that is, functions that take a list of numbers and calculate a single result) such as mean, median, count, sum, std, var etc.  But often times we want not to work with the entire dataset, but just a portion of the window.  For instance, we want to know the 30-day moving average of the stock close price.  Pandas allows us this with the \"rolling\" function."
      ]
    },
    {
      "metadata": {
        "trusted": true
      },
      "cell_type": "code",
      "source": [
        "df['30DMA'] = df['Close'].rolling(30).mean()\n",
        "\n",
        "\n",
        "# Let's plot it along with the close price but on two separate figures\n",
        "df[['30DMA','Close']].plot(subplots=True, figsize=(6,6));"
      ],
      "execution_count": null,
      "outputs": []
    },
    {
      "metadata": {
        "trusted": true
      },
      "cell_type": "code",
      "source": [
        "# Let's add in the 200 day moving average as well and then plot them together\n",
        "df['200DMA'] = df['Close'].rolling(200).mean()\n",
        "\n",
        "df[['30DMA','200DMA']].plot(figsize=(6,6));"
      ],
      "execution_count": null,
      "outputs": []
    },
    {
      "metadata": {
        "trusted": true
      },
      "cell_type": "code",
      "source": [
        "# In order to get the last say 100 days, we need to get an offset of days\n",
        "\n",
        "TODAY = pd.datetime.today()\n",
        "offset = pd.Timedelta(days=100)\n",
        "last_100 = df[TODAY-offset:]\n",
        "last_100"
      ],
      "execution_count": null,
      "outputs": []
    },
    {
      "metadata": {
        "trusted": true
      },
      "cell_type": "code",
      "source": [
        "# Or if we want a specific timeframe like this year\n",
        "df.loc['2020']"
      ],
      "execution_count": null,
      "outputs": []
    },
    {
      "metadata": {
        "trusted": true
      },
      "cell_type": "code",
      "source": [
        "# Or maybe we want everything from Dec 2019 til now\n",
        "df['12-2019':]"
      ],
      "execution_count": null,
      "outputs": []
    },
    {
      "metadata": {},
      "cell_type": "markdown",
      "source": [
        "# Black-Sholes Calculations\n",
        "\n",
        "The Black-Sholes pricing model can be calculated using the _current price_, _strike price_, _volatility_, _risk free rate_, and the _expiration_.  Two approaches are outlined here - first given a specific date, we can parse and figure out the number of days.  The second takes the number of days directly."
      ]
    },
    {
      "metadata": {
        "trusted": true,
        "tags": [
          "#blacksholes",
          "=>init"
        ]
      },
      "cell_type": "code",
      "source": [
        "%run Pricing-Models.ipynb"
      ],
      "execution_count": 182,
      "outputs": [
        {
          "output_type": "stream",
          "text": "Call Price: 12.61\nPut Price: 15.19\nCall Price: 0.40\nPut Price: 6.84\nCall Price: 12.62\nPut Price: 15.21\n",
          "name": "stdout"
        }
      ]
    },
    {
      "metadata": {
        "trusted": true,
        "tags": [
          "=>blacksholes"
        ]
      },
      "cell_type": "code",
      "source": [
        "# Notice when we call this function, that both the Call Price and the Put Price are returned\n",
        "currentPrice = 333.45\n",
        "volatility = 0.125\n",
        "strikePrice = 340\n",
        "riskFreeRate = 0.017\n",
        "expiration = '12/31/2020'\n",
        "\n",
        "callPrice, putPrice = BlackSholes(currentPrice, strikePrice, volatility, riskFreeRate, expiration)\n",
        "print(f'Call Price: {callPrice:0.2f}')\n",
        "print(f'Put Price: {putPrice:0.2f}')"
      ],
      "execution_count": 172,
      "outputs": [
        {
          "output_type": "stream",
          "text": "Call Price: 12.61\nPut Price: 15.19\n",
          "name": "stdout"
        }
      ]
    },
    {
      "metadata": {
        "trusted": true
      },
      "cell_type": "code",
      "source": [
        "# If we wanted to try a number of volatilities we could just as easily put these in an array and then call them \n",
        "options_12_20 = pd.DataFrame({'vol':np.arange(0.12,0.20,0.01)})\n",
        "options_12_20['bs'] = options_12_20['vol'].apply(lambda x: BlackSholes(currentPrice, strikePrice, x, riskFreeRate,expiration))\n",
        "\n",
        "# Just a bit of magic to get the values returned from a tuple into two columns\n",
        "options_12_20[['call', 'put']] = pd.DataFrame(options_12_20['bs'].tolist(), index=options_12_20.index)\n",
        "options_12_20.drop(columns='bs',inplace=True)\n",
        "options_12_20['actual call'] = 14.69\n",
        "options_12_20['actual put'] = 21.80\n",
        "\n",
        "options_12_20"
      ],
      "execution_count": 173,
      "outputs": [
        {
          "output_type": "execute_result",
          "execution_count": 173,
          "data": {
            "text/html": "<div>\n<style scoped>\n    .dataframe tbody tr th:only-of-type {\n        vertical-align: middle;\n    }\n\n    .dataframe tbody tr th {\n        vertical-align: top;\n    }\n\n    .dataframe thead th {\n        text-align: right;\n    }\n</style>\n<table border=\"1\" class=\"dataframe\">\n  <thead>\n    <tr style=\"text-align: right;\">\n      <th></th>\n      <th>vol</th>\n      <th>call</th>\n      <th>put</th>\n      <th>actual call</th>\n      <th>actual put</th>\n    </tr>\n  </thead>\n  <tbody>\n    <tr>\n      <th>0</th>\n      <td>0.12</td>\n      <td>12.0583</td>\n      <td>14.6411</td>\n      <td>14.69</td>\n      <td>21.8</td>\n    </tr>\n    <tr>\n      <th>1</th>\n      <td>0.13</td>\n      <td>13.1634</td>\n      <td>15.7461</td>\n      <td>14.69</td>\n      <td>21.8</td>\n    </tr>\n    <tr>\n      <th>2</th>\n      <td>0.14</td>\n      <td>14.2686</td>\n      <td>16.8514</td>\n      <td>14.69</td>\n      <td>21.8</td>\n    </tr>\n    <tr>\n      <th>3</th>\n      <td>0.15</td>\n      <td>15.3739</td>\n      <td>17.9567</td>\n      <td>14.69</td>\n      <td>21.8</td>\n    </tr>\n    <tr>\n      <th>4</th>\n      <td>0.16</td>\n      <td>16.4793</td>\n      <td>19.0620</td>\n      <td>14.69</td>\n      <td>21.8</td>\n    </tr>\n    <tr>\n      <th>5</th>\n      <td>0.17</td>\n      <td>17.5845</td>\n      <td>20.1673</td>\n      <td>14.69</td>\n      <td>21.8</td>\n    </tr>\n    <tr>\n      <th>6</th>\n      <td>0.18</td>\n      <td>18.6896</td>\n      <td>21.2724</td>\n      <td>14.69</td>\n      <td>21.8</td>\n    </tr>\n    <tr>\n      <th>7</th>\n      <td>0.19</td>\n      <td>19.7946</td>\n      <td>22.3773</td>\n      <td>14.69</td>\n      <td>21.8</td>\n    </tr>\n    <tr>\n      <th>8</th>\n      <td>0.20</td>\n      <td>20.8993</td>\n      <td>23.4820</td>\n      <td>14.69</td>\n      <td>21.8</td>\n    </tr>\n  </tbody>\n</table>\n</div>",
            "text/plain": "    vol     call      put  actual call  actual put\n0  0.12  12.0583  14.6411        14.69        21.8\n1  0.13  13.1634  15.7461        14.69        21.8\n2  0.14  14.2686  16.8514        14.69        21.8\n3  0.15  15.3739  17.9567        14.69        21.8\n4  0.16  16.4793  19.0620        14.69        21.8\n5  0.17  17.5845  20.1673        14.69        21.8\n6  0.18  18.6896  21.2724        14.69        21.8\n7  0.19  19.7946  22.3773        14.69        21.8\n8  0.20  20.8993  23.4820        14.69        21.8"
          },
          "metadata": {}
        }
      ]
    },
    {
      "metadata": {
        "trusted": true
      },
      "cell_type": "code",
      "source": [
        "# and then we already know how to plot\n",
        "options_12_20.plot(x='vol');"
      ],
      "execution_count": 174,
      "outputs": [
        {
          "output_type": "error",
          "ename": "ModuleNotFoundError",
          "evalue": "No module named 'pandas.plotting._timeseries'",
          "traceback": [
            "\u001b[0;31m---------------------------------------------------------------------------\u001b[0m",
            "\u001b[0;31mModuleNotFoundError\u001b[0m                       Traceback (most recent call last)",
            "\u001b[0;32m<ipython-input-174-2a3639448bec>\u001b[0m in \u001b[0;36m<module>\u001b[0;34m\u001b[0m\n\u001b[1;32m      1\u001b[0m \u001b[0;31m# and then we already know how to plot\u001b[0m\u001b[0;34m\u001b[0m\u001b[0;34m\u001b[0m\u001b[0m\n\u001b[0;32m----> 2\u001b[0;31m \u001b[0moptions_12_20\u001b[0m\u001b[0;34m.\u001b[0m\u001b[0mplot\u001b[0m\u001b[0;34m(\u001b[0m\u001b[0mx\u001b[0m\u001b[0;34m=\u001b[0m\u001b[0;34m'vol'\u001b[0m\u001b[0;34m)\u001b[0m\u001b[0;34m;\u001b[0m\u001b[0;34m\u001b[0m\u001b[0m\n\u001b[0m",
            "\u001b[0;32m~/anaconda3_501/lib/python3.6/site-packages/pandas/plotting/_core.py\u001b[0m in \u001b[0;36m__call__\u001b[0;34m(self, x, y, kind, ax, subplots, sharex, sharey, layout, figsize, use_index, title, grid, legend, style, logx, logy, loglog, xticks, yticks, xlim, ylim, rot, fontsize, colormap, table, yerr, xerr, secondary_y, sort_columns, **kwds)\u001b[0m\n",
            "\u001b[0;32m~/anaconda3_501/lib/python3.6/site-packages/pandas/plotting/_core.py\u001b[0m in \u001b[0;36mplot_frame\u001b[0;34m(data, x, y, kind, ax, subplots, sharex, sharey, layout, figsize, use_index, title, grid, legend, style, logx, logy, loglog, xticks, yticks, xlim, ylim, rot, fontsize, colormap, table, yerr, xerr, secondary_y, sort_columns, **kwds)\u001b[0m\n",
            "\u001b[0;32m~/anaconda3_501/lib/python3.6/site-packages/pandas/plotting/_core.py\u001b[0m in \u001b[0;36m_plot\u001b[0;34m(data, x, y, subplots, ax, kind, **kwds)\u001b[0m\n",
            "\u001b[0;32m~/anaconda3_501/lib/python3.6/site-packages/pandas/plotting/_core.py\u001b[0m in \u001b[0;36mgenerate\u001b[0;34m(self)\u001b[0m\n\u001b[1;32m    258\u001b[0m \u001b[0;34m\u001b[0m\u001b[0m\n\u001b[1;32m    259\u001b[0m       \u001b[0mIf\u001b[0m\u001b[0;31m \u001b[0m\u001b[0;31m`\u001b[0m\u001b[0;31m`\u001b[0m\u001b[0mreturn_type\u001b[0m\u001b[0;31m`\u001b[0m\u001b[0;31m`\u001b[0m \u001b[0;32mis\u001b[0m\u001b[0;31m \u001b[0m\u001b[0;31m`\u001b[0m\u001b[0;32mNone\u001b[0m\u001b[0;31m`\u001b[0m\u001b[0;34m,\u001b[0m \u001b[0ma\u001b[0m \u001b[0mNumPy\u001b[0m \u001b[0marray\u001b[0m\u001b[0;34m\u001b[0m\u001b[0m\n\u001b[0;32m--> 260\u001b[0;31m       \u001b[0mof\u001b[0m \u001b[0maxes\u001b[0m \u001b[0;32mwith\u001b[0m \u001b[0mthe\u001b[0m \u001b[0msame\u001b[0m \u001b[0mshape\u001b[0m \u001b[0;32mas\u001b[0m\u001b[0;31m \u001b[0m\u001b[0;31m`\u001b[0m\u001b[0;31m`\u001b[0m\u001b[0mlayout\u001b[0m\u001b[0;31m`\u001b[0m\u001b[0;31m`\u001b[0m \u001b[0;32mis\u001b[0m \u001b[0mreturned\u001b[0m\u001b[0;34m.\u001b[0m\u001b[0;34m\u001b[0m\u001b[0m\n\u001b[0m\u001b[1;32m    261\u001b[0m \u001b[0;34m%\u001b[0m\u001b[0;34m(\u001b[0m\u001b[0mbackend\u001b[0m\u001b[0;34m)\u001b[0m\u001b[0ms\u001b[0m\u001b[0;31m\\\u001b[0m\u001b[0;34m\u001b[0m\u001b[0m\n\u001b[1;32m    262\u001b[0m \u001b[0;34m\u001b[0m\u001b[0m\n",
            "\u001b[0;32m~/anaconda3_501/lib/python3.6/site-packages/pandas/plotting/_core.py\u001b[0m in \u001b[0;36m_make_plot\u001b[0;34m(self)\u001b[0m\n\u001b[1;32m    953\u001b[0m \u001b[0;34m\u001b[0m\u001b[0m\n\u001b[1;32m    954\u001b[0m         \u001b[0mExamples\u001b[0m\u001b[0;34m\u001b[0m\u001b[0m\n\u001b[0;32m--> 955\u001b[0;31m         \u001b[0;34m-\u001b[0m\u001b[0;34m-\u001b[0m\u001b[0;34m-\u001b[0m\u001b[0;34m-\u001b[0m\u001b[0;34m-\u001b[0m\u001b[0;34m-\u001b[0m\u001b[0;34m-\u001b[0m\u001b[0;34m-\u001b[0m\u001b[0;34m\u001b[0m\u001b[0m\n\u001b[0m\u001b[1;32m    956\u001b[0m         \u001b[0mBasic\u001b[0m \u001b[0mplot\u001b[0m\u001b[0;34m.\u001b[0m\u001b[0;34m\u001b[0m\u001b[0m\n\u001b[1;32m    957\u001b[0m \u001b[0;34m\u001b[0m\u001b[0m\n",
            "\u001b[0;32m~/anaconda3_501/lib/python3.6/site-packages/pandas/plotting/_core.py\u001b[0m in \u001b[0;36m_is_ts_plot\u001b[0;34m(self)\u001b[0m\n\u001b[1;32m    946\u001b[0m             \u001b[0mper\u001b[0m \u001b[0mcolumn\u001b[0m \u001b[0mwhen\u001b[0m\u001b[0;31m \u001b[0m\u001b[0;31m`\u001b[0m\u001b[0;31m`\u001b[0m\u001b[0msubplots\u001b[0m\u001b[0;34m=\u001b[0m\u001b[0;32mTrue\u001b[0m\u001b[0;31m`\u001b[0m\u001b[0;31m`\u001b[0m\u001b[0;34m.\u001b[0m\u001b[0;34m\u001b[0m\u001b[0m\n\u001b[1;32m    947\u001b[0m \u001b[0;34m\u001b[0m\u001b[0m\n\u001b[0;32m--> 948\u001b[0;31m         \u001b[0mSee\u001b[0m \u001b[0mAlso\u001b[0m\u001b[0;34m\u001b[0m\u001b[0m\n\u001b[0m\u001b[1;32m    949\u001b[0m         \u001b[0;34m-\u001b[0m\u001b[0;34m-\u001b[0m\u001b[0;34m-\u001b[0m\u001b[0;34m-\u001b[0m\u001b[0;34m-\u001b[0m\u001b[0;34m-\u001b[0m\u001b[0;34m-\u001b[0m\u001b[0;34m-\u001b[0m\u001b[0;34m\u001b[0m\u001b[0m\n\u001b[1;32m    950\u001b[0m         \u001b[0mDataFrame\u001b[0m\u001b[0;34m.\u001b[0m\u001b[0mplot\u001b[0m\u001b[0;34m.\u001b[0m\u001b[0mbarh\u001b[0m \u001b[0;34m:\u001b[0m \u001b[0mHorizontal\u001b[0m \u001b[0mbar\u001b[0m \u001b[0mplot\u001b[0m\u001b[0;34m.\u001b[0m\u001b[0;34m\u001b[0m\u001b[0m\n",
            "\u001b[0;32m~/anaconda3_501/lib/python3.6/site-packages/pandas/plotting/_core.py\u001b[0m in \u001b[0;36m_use_dynamic_x\u001b[0;34m(self)\u001b[0m\n\u001b[1;32m    949\u001b[0m         \u001b[0;34m-\u001b[0m\u001b[0;34m-\u001b[0m\u001b[0;34m-\u001b[0m\u001b[0;34m-\u001b[0m\u001b[0;34m-\u001b[0m\u001b[0;34m-\u001b[0m\u001b[0;34m-\u001b[0m\u001b[0;34m-\u001b[0m\u001b[0;34m\u001b[0m\u001b[0m\n\u001b[1;32m    950\u001b[0m         \u001b[0mDataFrame\u001b[0m\u001b[0;34m.\u001b[0m\u001b[0mplot\u001b[0m\u001b[0;34m.\u001b[0m\u001b[0mbarh\u001b[0m \u001b[0;34m:\u001b[0m \u001b[0mHorizontal\u001b[0m \u001b[0mbar\u001b[0m \u001b[0mplot\u001b[0m\u001b[0;34m.\u001b[0m\u001b[0;34m\u001b[0m\u001b[0m\n\u001b[0;32m--> 951\u001b[0;31m         \u001b[0mDataFrame\u001b[0m\u001b[0;34m.\u001b[0m\u001b[0mplot\u001b[0m \u001b[0;34m:\u001b[0m \u001b[0mMake\u001b[0m \u001b[0mplots\u001b[0m \u001b[0mof\u001b[0m \u001b[0ma\u001b[0m \u001b[0mDataFrame\u001b[0m\u001b[0;34m.\u001b[0m\u001b[0;34m\u001b[0m\u001b[0m\n\u001b[0m\u001b[1;32m    952\u001b[0m         \u001b[0mmatplotlib\u001b[0m\u001b[0;34m.\u001b[0m\u001b[0mpyplot\u001b[0m\u001b[0;34m.\u001b[0m\u001b[0mbar\u001b[0m \u001b[0;34m:\u001b[0m \u001b[0mMake\u001b[0m \u001b[0ma\u001b[0m \u001b[0mbar\u001b[0m \u001b[0mplot\u001b[0m \u001b[0;32mwith\u001b[0m \u001b[0mmatplotlib\u001b[0m\u001b[0;34m.\u001b[0m\u001b[0;34m\u001b[0m\u001b[0m\n\u001b[1;32m    953\u001b[0m \u001b[0;34m\u001b[0m\u001b[0m\n",
            "\u001b[0;31mModuleNotFoundError\u001b[0m: No module named 'pandas.plotting._timeseries'"
          ]
        },
        {
          "output_type": "display_data",
          "data": {
            "image/png": "[encoded data removed]",
            "text/plain": "<Figure size 432x288 with 1 Axes>"
          },
          "metadata": {
            "needs_background": "light"
          }
        }
      ]
    },
    {
      "metadata": {},
      "cell_type": "markdown",
      "source": [
        "# Okay, time to get a bit more clever\n",
        "\n",
        "We can do something called multi-level indexing.  In other words, we might want to get the put and call prices for a range of dates and volatilities rather than just just a single day.  We can also calculate the prices a number of different strike prices, then we'll have a whole slew of data to pick from.\n",
        "\n",
        "So we start by creating a list of dates when the options expire.  For SPY this means every Mon-Wed-Fri, for other stocks it's usually every Friday for the next 6 weeks then the third Friday of the month.  For our purposes we are just going to look at options that expire on monthly cycles for the next 12 months.  Keep in mind that we have to take into account holidays, so if the Friday expiration falls on a holiday, then it expires on Thursday.\n",
        "\n",
        "For this handy little bit of help, we are going to use [dateutil](https://dateutil.readthedocs.io/en/stable/) and also we want to handle holidays so we'll depend on [holidays](https://pypi.org/project/holidays/).  We've got the handy library dateutil to allows us to do timemath relatively easily (that is calculate the 3rd Friday of the month for the next 12 months).  Then we'll make sure that these days don't fall on a holiday, in which case, we need to expire on Thursday instead."
      ]
    },
    {
      "metadata": {
        "trusted": true
      },
      "cell_type": "code",
      "source": [
        "# Start with figuring out the options dates (this says, starting today, give me every 3rd Friday of the month for a year)\n",
        "expiration_dates = [dt.date() for dt in rrule(MONTHLY, count=12, byweekday=FR(3))]\n",
        "us_holidays = holidays.UnitedStates()\n",
        "expiration_dates = [x-timedelta(-1) if x else x in us_holidays for x in expiration_dates]\n",
        "\n",
        "# Now, give me a range of volatilities the first parameter is start, second is end, third is step\n",
        "# due to a \"bug\" in numpy's range function, I have to first move by ints then divide by 100\n",
        "volatilities = np.arange(12,20) * 0.01\n",
        "\n",
        "# And if we like we can also add strike prices, let's start with the stock's current price and give ourselves 10 options\n",
        "# in either direction, in 2.50 increments rounded to the nearest $2.50 above or below the price...  \n",
        "# So for the case where a stock is $86, we'll start going down from $85, $82.50.... and up from $85\n",
        "strike_midpoint=2.5 * round(currentPrice/2.5)\n",
        "strike_range = np.arange(strike_midpoint-25,strike_midpoint+25,2.5)\n",
        "\n",
        "indexes = pd.MultiIndex.from_product([expiration_dates,strike_range, volatilities],names=['Expiration', 'Strike','Volatility'])\n",
        "df_options = pd.DataFrame(index=indexes)\n",
        "df_options.reset_index(inplace=True)\n",
        "df_options.head()\n"
      ],
      "execution_count": 175,
      "outputs": [
        {
          "output_type": "execute_result",
          "execution_count": 175,
          "data": {
            "text/html": "<div>\n<style scoped>\n    .dataframe tbody tr th:only-of-type {\n        vertical-align: middle;\n    }\n\n    .dataframe tbody tr th {\n        vertical-align: top;\n    }\n\n    .dataframe thead th {\n        text-align: right;\n    }\n</style>\n<table border=\"1\" class=\"dataframe\">\n  <thead>\n    <tr style=\"text-align: right;\">\n      <th></th>\n      <th>Expiration</th>\n      <th>Strike</th>\n      <th>Volatility</th>\n    </tr>\n  </thead>\n  <tbody>\n    <tr>\n      <th>0</th>\n      <td>2020-05-16</td>\n      <td>307.5</td>\n      <td>0.12</td>\n    </tr>\n    <tr>\n      <th>1</th>\n      <td>2020-05-16</td>\n      <td>307.5</td>\n      <td>0.13</td>\n    </tr>\n    <tr>\n      <th>2</th>\n      <td>2020-05-16</td>\n      <td>307.5</td>\n      <td>0.14</td>\n    </tr>\n    <tr>\n      <th>3</th>\n      <td>2020-05-16</td>\n      <td>307.5</td>\n      <td>0.15</td>\n    </tr>\n    <tr>\n      <th>4</th>\n      <td>2020-05-16</td>\n      <td>307.5</td>\n      <td>0.16</td>\n    </tr>\n  </tbody>\n</table>\n</div>",
            "text/plain": "  Expiration  Strike  Volatility\n0 2020-05-16   307.5        0.12\n1 2020-05-16   307.5        0.13\n2 2020-05-16   307.5        0.14\n3 2020-05-16   307.5        0.15\n4 2020-05-16   307.5        0.16"
          },
          "metadata": {}
        }
      ]
    },
    {
      "metadata": {},
      "cell_type": "markdown",
      "source": [
        "## Calculating values\n",
        "\n",
        "Now we need to go through the effort to calculate BS prices for each of these three variables strike price, expiration, and volatility.  We want to do what we did before with the getting the call prices and put prices so that we can determine which ones make the most sense to us.\n"
      ]
    },
    {
      "metadata": {
        "trusted": true
      },
      "cell_type": "code",
      "source": [
        "# This code says..  for every row in the data, apply the BlackSholes function with the Strike, Volatility, and Expiration\n",
        "# the results should be put into two columns called Call and Put upon the return\n",
        "df_options[['Call','Put']] = df_options.apply(lambda x: BlackSholes(currentPrice, \n",
        "                                                          x['Strike'], \n",
        "                                                          x['Volatility'], \n",
        "                                                          riskFreeRate, \n",
        "                                                          x['Expiration']),\n",
        "                                              axis=1, result_type='expand')\n",
        "\n",
        "# And just so that we are back where we started, let's recreate our multi-index\n",
        "df_options['Expiration'] = pd.to_datetime(df_options['Expiration'])\n",
        "df_options.set_index(['Expiration', 'Strike', 'Volatility'], inplace=True)\n",
        "df_options.head()"
      ],
      "execution_count": 180,
      "outputs": [
        {
          "output_type": "error",
          "ename": "TypeError",
          "evalue": "(\"unsupported operand type(s) for -: 'Timestamp' and 'datetime.date'\", 'occurred at index 0')",
          "traceback": [
            "\u001b[0;31m---------------------------------------------------------------------------\u001b[0m",
            "\u001b[0;31mTypeError\u001b[0m                                 Traceback (most recent call last)",
            "\u001b[0;32m<ipython-input-180-64200c2a93d5>\u001b[0m in \u001b[0;36m<module>\u001b[0;34m\u001b[0m\n\u001b[1;32m      6\u001b[0m                                                           \u001b[0mriskFreeRate\u001b[0m\u001b[0;34m,\u001b[0m\u001b[0;34m\u001b[0m\u001b[0m\n\u001b[1;32m      7\u001b[0m                                                           x['Expiration']),\n\u001b[0;32m----> 8\u001b[0;31m                                               axis=1, result_type='expand')\n\u001b[0m\u001b[1;32m      9\u001b[0m \u001b[0;34m\u001b[0m\u001b[0m\n\u001b[1;32m     10\u001b[0m \u001b[0;31m# And just so that we are back where we started, let's recreate our multi-index\u001b[0m\u001b[0;34m\u001b[0m\u001b[0;34m\u001b[0m\u001b[0m\n",
            "\u001b[0;32m~/anaconda3_501/lib/python3.6/site-packages/pandas/core/frame.py\u001b[0m in \u001b[0;36mapply\u001b[0;34m(self, func, axis, broadcast, raw, reduce, result_type, args, **kwds)\u001b[0m\n\u001b[1;32m   6012\u001b[0m \u001b[0;34m\u001b[0m\u001b[0m\n\u001b[1;32m   6013\u001b[0m         \u001b[0mWe\u001b[0m \u001b[0mcan\u001b[0m \u001b[0malso\u001b[0m \u001b[0mfill\u001b[0m \u001b[0mmissing\u001b[0m \u001b[0mvalues\u001b[0m \u001b[0musing\u001b[0m \u001b[0mthe\u001b[0m\u001b[0;31m \u001b[0m\u001b[0;31m`\u001b[0m\u001b[0mfill_value\u001b[0m\u001b[0;31m`\u001b[0m \u001b[0mparameter\u001b[0m\u001b[0;34m.\u001b[0m\u001b[0;34m\u001b[0m\u001b[0m\n\u001b[0;32m-> 6014\u001b[0;31m \u001b[0;34m\u001b[0m\u001b[0m\n\u001b[0m\u001b[1;32m   6015\u001b[0m         >>> table = pd.pivot_table(df, values='D', index=['A', 'B'],\n\u001b[1;32m   6016\u001b[0m         ...                     columns=['C'], aggfunc=np.sum, fill_value=0)\n",
            "\u001b[0;32m~/anaconda3_501/lib/python3.6/site-packages/pandas/core/apply.py\u001b[0m in \u001b[0;36mget_result\u001b[0;34m(self)\u001b[0m\n\u001b[1;32m    140\u001b[0m     \u001b[0;34m@\u001b[0m\u001b[0mproperty\u001b[0m\u001b[0;34m\u001b[0m\u001b[0m\n\u001b[1;32m    141\u001b[0m     \u001b[0;32mdef\u001b[0m \u001b[0magg_axis\u001b[0m\u001b[0;34m(\u001b[0m\u001b[0mself\u001b[0m\u001b[0;34m)\u001b[0m \u001b[0;34m->\u001b[0m \u001b[0;34m\"Index\"\u001b[0m\u001b[0;34m:\u001b[0m\u001b[0;34m\u001b[0m\u001b[0m\n\u001b[0;32m--> 142\u001b[0;31m         \u001b[0;32mreturn\u001b[0m \u001b[0mself\u001b[0m\u001b[0;34m.\u001b[0m\u001b[0mobj\u001b[0m\u001b[0;34m.\u001b[0m\u001b[0m_get_agg_axis\u001b[0m\u001b[0;34m(\u001b[0m\u001b[0mself\u001b[0m\u001b[0;34m.\u001b[0m\u001b[0maxis\u001b[0m\u001b[0;34m)\u001b[0m\u001b[0;34m\u001b[0m\u001b[0m\n\u001b[0m\u001b[1;32m    143\u001b[0m \u001b[0;34m\u001b[0m\u001b[0m\n\u001b[1;32m    144\u001b[0m     \u001b[0;32mdef\u001b[0m \u001b[0mget_result\u001b[0m\u001b[0;34m(\u001b[0m\u001b[0mself\u001b[0m\u001b[0;34m)\u001b[0m\u001b[0;34m:\u001b[0m\u001b[0;34m\u001b[0m\u001b[0m\n",
            "\u001b[0;32m~/anaconda3_501/lib/python3.6/site-packages/pandas/core/apply.py\u001b[0m in \u001b[0;36mapply_standard\u001b[0;34m(self)\u001b[0m\n\u001b[1;32m    246\u001b[0m         \u001b[0mresult_compare\u001b[0m \u001b[0;34m=\u001b[0m \u001b[0mtarget\u001b[0m\u001b[0;34m.\u001b[0m\u001b[0mshape\u001b[0m\u001b[0;34m[\u001b[0m\u001b[0;36m0\u001b[0m\u001b[0;34m]\u001b[0m\u001b[0;34m\u001b[0m\u001b[0m\n\u001b[1;32m    247\u001b[0m \u001b[0;34m\u001b[0m\u001b[0m\n\u001b[0;32m--> 248\u001b[0;31m         \u001b[0;32mfor\u001b[0m \u001b[0mi\u001b[0m\u001b[0;34m,\u001b[0m \u001b[0mcol\u001b[0m \u001b[0;32min\u001b[0m \u001b[0menumerate\u001b[0m\u001b[0;34m(\u001b[0m\u001b[0mtarget\u001b[0m\u001b[0;34m.\u001b[0m\u001b[0mcolumns\u001b[0m\u001b[0;34m)\u001b[0m\u001b[0;34m:\u001b[0m\u001b[0;34m\u001b[0m\u001b[0m\n\u001b[0m\u001b[1;32m    249\u001b[0m             \u001b[0mres\u001b[0m \u001b[0;34m=\u001b[0m \u001b[0mself\u001b[0m\u001b[0;34m.\u001b[0m\u001b[0mf\u001b[0m\u001b[0;34m(\u001b[0m\u001b[0mtarget\u001b[0m\u001b[0;34m[\u001b[0m\u001b[0mcol\u001b[0m\u001b[0;34m]\u001b[0m\u001b[0;34m)\u001b[0m\u001b[0;34m\u001b[0m\u001b[0m\n\u001b[1;32m    250\u001b[0m             \u001b[0mares\u001b[0m \u001b[0;34m=\u001b[0m \u001b[0mnp\u001b[0m\u001b[0;34m.\u001b[0m\u001b[0masarray\u001b[0m\u001b[0;34m(\u001b[0m\u001b[0mres\u001b[0m\u001b[0;34m)\u001b[0m\u001b[0;34m.\u001b[0m\u001b[0mndim\u001b[0m\u001b[0;34m\u001b[0m\u001b[0m\n",
            "\u001b[0;32m~/anaconda3_501/lib/python3.6/site-packages/pandas/core/apply.py\u001b[0m in \u001b[0;36mapply_series_generator\u001b[0;34m(self)\u001b[0m\n\u001b[1;32m    275\u001b[0m         \u001b[0;31m# we cannot reduce using non-numpy dtypes,\u001b[0m\u001b[0;34m\u001b[0m\u001b[0;34m\u001b[0m\u001b[0m\n\u001b[1;32m    276\u001b[0m         \u001b[0;31m# as demonstrated in gh-12244\u001b[0m\u001b[0;34m\u001b[0m\u001b[0;34m\u001b[0m\u001b[0m\n\u001b[0;32m--> 277\u001b[0;31m         if (\n\u001b[0m\u001b[1;32m    278\u001b[0m             \u001b[0mself\u001b[0m\u001b[0;34m.\u001b[0m\u001b[0mresult_type\u001b[0m \u001b[0;32min\u001b[0m \u001b[0;34m[\u001b[0m\u001b[0;34m\"reduce\"\u001b[0m\u001b[0;34m,\u001b[0m \u001b[0;32mNone\u001b[0m\u001b[0;34m]\u001b[0m\u001b[0;34m\u001b[0m\u001b[0m\n\u001b[1;32m    279\u001b[0m             \u001b[0;32mand\u001b[0m \u001b[0;32mnot\u001b[0m \u001b[0mself\u001b[0m\u001b[0;34m.\u001b[0m\u001b[0mdtypes\u001b[0m\u001b[0;34m.\u001b[0m\u001b[0mapply\u001b[0m\u001b[0;34m(\u001b[0m\u001b[0mis_extension_array_dtype\u001b[0m\u001b[0;34m)\u001b[0m\u001b[0;34m.\u001b[0m\u001b[0many\u001b[0m\u001b[0;34m(\u001b[0m\u001b[0;34m)\u001b[0m\u001b[0;34m\u001b[0m\u001b[0m\n",
            "\u001b[0;32m<ipython-input-180-64200c2a93d5>\u001b[0m in \u001b[0;36m<lambda>\u001b[0;34m(x)\u001b[0m\n\u001b[1;32m      5\u001b[0m                                                           \u001b[0mx\u001b[0m\u001b[0;34m[\u001b[0m\u001b[0;34m'Volatility'\u001b[0m\u001b[0;34m]\u001b[0m\u001b[0;34m,\u001b[0m\u001b[0;34m\u001b[0m\u001b[0m\n\u001b[1;32m      6\u001b[0m                                                           \u001b[0mriskFreeRate\u001b[0m\u001b[0;34m,\u001b[0m\u001b[0;34m\u001b[0m\u001b[0m\n\u001b[0;32m----> 7\u001b[0;31m                                                           x['Expiration']),\n\u001b[0m\u001b[1;32m      8\u001b[0m                                               axis=1, result_type='expand')\n\u001b[1;32m      9\u001b[0m \u001b[0;34m\u001b[0m\u001b[0m\n",
            "\u001b[0;32m<ipython-input-171-5d86c3f5b7a5>\u001b[0m in \u001b[0;36mBlackSholes\u001b[0;34m(S0, strikePrice, volatility, rate, expiration)\u001b[0m\n\u001b[1;32m      1\u001b[0m \u001b[0;32mdef\u001b[0m \u001b[0mBlackSholes\u001b[0m\u001b[0;34m(\u001b[0m\u001b[0mS0\u001b[0m\u001b[0;34m,\u001b[0m \u001b[0mstrikePrice\u001b[0m\u001b[0;34m,\u001b[0m \u001b[0mvolatility\u001b[0m\u001b[0;34m,\u001b[0m \u001b[0mrate\u001b[0m\u001b[0;34m,\u001b[0m \u001b[0mexpiration\u001b[0m \u001b[0;34m=\u001b[0m \u001b[0;34m'12/31/2020'\u001b[0m\u001b[0;34m)\u001b[0m\u001b[0;34m:\u001b[0m\u001b[0;34m\u001b[0m\u001b[0m\n\u001b[0;32m----> 2\u001b[0;31m     \u001b[0mterm\u001b[0m \u001b[0;34m=\u001b[0m \u001b[0mget_term\u001b[0m\u001b[0;34m(\u001b[0m\u001b[0mexpiration\u001b[0m\u001b[0;34m)\u001b[0m\u001b[0;34m\u001b[0m\u001b[0m\n\u001b[0m\u001b[1;32m      3\u001b[0m     \u001b[0;32mreturn\u001b[0m \u001b[0m_BlackSholes\u001b[0m\u001b[0;34m(\u001b[0m\u001b[0mS0\u001b[0m\u001b[0;34m,\u001b[0m\u001b[0mstrikePrice\u001b[0m\u001b[0;34m,\u001b[0m\u001b[0mvolatility\u001b[0m\u001b[0;34m,\u001b[0m\u001b[0mrate\u001b[0m\u001b[0;34m,\u001b[0m \u001b[0mterm\u001b[0m\u001b[0;34m,\u001b[0m \u001b[0mtermUnits\u001b[0m\u001b[0;34m=\u001b[0m\u001b[0;34m'days'\u001b[0m\u001b[0;34m)\u001b[0m\u001b[0;34m\u001b[0m\u001b[0m\n\u001b[1;32m      4\u001b[0m \u001b[0;34m\u001b[0m\u001b[0m\n\u001b[1;32m      5\u001b[0m \u001b[0;32mdef\u001b[0m \u001b[0m_BlackSholes\u001b[0m\u001b[0;34m(\u001b[0m\u001b[0mS0\u001b[0m\u001b[0;34m,\u001b[0m \u001b[0mstrikePrice\u001b[0m\u001b[0;34m,\u001b[0m \u001b[0mvolatility\u001b[0m\u001b[0;34m,\u001b[0m \u001b[0mrate\u001b[0m\u001b[0;34m,\u001b[0m \u001b[0mterm\u001b[0m\u001b[0;34m,\u001b[0m \u001b[0mtermUnits\u001b[0m\u001b[0;34m=\u001b[0m\u001b[0;34m'days'\u001b[0m\u001b[0;34m)\u001b[0m\u001b[0;34m:\u001b[0m\u001b[0;34m\u001b[0m\u001b[0m\n",
            "\u001b[0;32m<ipython-input-171-b42f84a952d6>\u001b[0m in \u001b[0;36mget_term\u001b[0;34m(expiration, start)\u001b[0m\n\u001b[1;32m     13\u001b[0m         \u001b[0mstart\u001b[0m \u001b[0;34m=\u001b[0m \u001b[0mparse\u001b[0m\u001b[0;34m(\u001b[0m\u001b[0mstart\u001b[0m\u001b[0;34m)\u001b[0m\u001b[0;34m.\u001b[0m\u001b[0mdate\u001b[0m\u001b[0;34m(\u001b[0m\u001b[0;34m)\u001b[0m\u001b[0;34m\u001b[0m\u001b[0m\n\u001b[1;32m     14\u001b[0m \u001b[0;34m\u001b[0m\u001b[0m\n\u001b[0;32m---> 15\u001b[0;31m     \u001b[0;32mreturn\u001b[0m \u001b[0;34m(\u001b[0m\u001b[0mexpiration\u001b[0m \u001b[0;34m-\u001b[0m \u001b[0mstart\u001b[0m\u001b[0;34m)\u001b[0m\u001b[0;34m.\u001b[0m\u001b[0mdays\u001b[0m\u001b[0;34m\u001b[0m\u001b[0m\n\u001b[0m",
            "\u001b[0;31mTypeError\u001b[0m: (\"unsupported operand type(s) for -: 'Timestamp' and 'datetime.date'\", 'occurred at index 0')"
          ]
        }
      ]
    },
    {
      "metadata": {
        "trusted": true
      },
      "cell_type": "code",
      "source": [
        "# Now we can do business on our dataframe, let's say we want to look at all the prices for the May expiration\n",
        "df_options.loc[('05-2020')]"
      ],
      "execution_count": null,
      "outputs": []
    },
    {
      "metadata": {
        "trusted": true
      },
      "cell_type": "code",
      "source": [
        "# Or what if we only want the values in May 2020 that have a strike of 352.5\n",
        "df_options.loc[('5-2020',352.5),]"
      ],
      "execution_count": null,
      "outputs": []
    },
    {
      "metadata": {
        "trusted": true
      },
      "cell_type": "code",
      "source": [
        "# We can also look at all the options with a volatility that we believe in\n",
        "df_options.xs(0.16,axis=0,level=2, drop_level=False)"
      ],
      "execution_count": null,
      "outputs": []
    },
    {
      "metadata": {
        "trusted": true
      },
      "cell_type": "code",
      "source": [
        "# A few other ways to 'slice' the data include specifying two of the values, like Strike and Volatility\n",
        "df_options.loc[(slice(None),350.,0.15),]"
      ],
      "execution_count": null,
      "outputs": []
    },
    {
      "metadata": {},
      "cell_type": "markdown",
      "source": [
        "# Let's do this in an interactive way\n",
        "Now that we have a few different methods to price options let's see if we can compare the results.\n",
        "\n"
      ]
    },
    {
      "metadata": {
        "trusted": true,
        "tags": [
          "=>blacksholes"
        ]
      },
      "cell_type": "code",
      "source": [
        "# %matplotlib notebook\n",
        "import ipywidgets as widgets\n",
        "from ipywidgets import Button, FloatText, DatePicker, HBox, VBox, FloatRangeSlider\n",
        "from IPython.display import display\n",
        "import numpy as np\n",
        "import pdb; \n",
        "import datetime as dt\n",
        "import seaborn as sns\n",
        "\n",
        "import numpy as np\n",
        "import matplotlib as mpl\n",
        "import matplotlib.pyplot as plt\n",
        "%matplotlib inline\n",
        "\n",
        "\n",
        "stock_current_value_default = 225\n",
        "expiration_default = dt.date(2020,4,30)\n",
        "\n",
        "txt_current = FloatText(description='Current Price', width='20%', value=stock_current_value_default)\n",
        "txt_riskRate = FloatText(description='Risk Free Rate',value=0.01)\n",
        "txt_expiration = DatePicker(description='Expiration', value=expiration_default)\n",
        "in_vol_range = widgets.FloatSlider(description='Volatility',min=1,max=100,step=1, value=1)\n",
        "btn_display = widgets.Button(description='Update Chart')\n",
        "strike_range = FloatRangeSlider(description='Strike Price Range', \n",
        "                                value=[stock_current_value_default*.90, stock_current_value_default*1.10],\n",
        "                                min=stock_current_value_default*.75, max=stock_current_value_default*1.5)\n",
        "\n",
        "output = widgets.Output()\n",
        "df_options = pd.DataFrame()\n",
        "\n",
        "def on_graph_update(b):\n",
        "\n",
        "    # Let's start with the stock's current price and give ourselves 10 options\n",
        "    # in either direction, in 2.50 increments rounded to the nearest $2.50 above or below the price...  \n",
        "    # So for the case where a stock is $86, we'll start going down from $85, $82.50.... and up from $85\n",
        "    strike_step = (strike_range.max - strike_range.min) / 20\n",
        "    strike_range_list = np.arange(strike_range.lower,strike_range.upper,strike_step)\n",
        "\n",
        "    df_options = pd.DataFrame(strike_range_list,columns=['strike'])\n",
        "    df_options[['Call','Put']] = df_options.apply(lambda x: BlackSholes(txt_current.value, \n",
        "                                                      x.strike, \n",
        "                                                      in_vol_range.value/100, \n",
        "                                                      riskFreeRate, \n",
        "                                                      txt_expiration.value),\n",
        "                                                  axis=1, result_type='expand')\n",
        "    df_options_long = pd.melt(df_options, ['strike'],var_name='put_call',value_name='price')\n",
        "\n",
        "    # Use the expiration date and volatility as the Title of the graph\n",
        "    sns.lineplot(x='strike',y='price', data=df_options_long, hue='put_call', ci=None,).set_title(f'Option Price Expiring {txt_expiration.value}\\n'\n",
        "                                                                                                 f'Vol: {in_vol_range.value}%');\n",
        "\n",
        "#     ggplot(aes(x='strike', y='price'), data=df_options_long)+geom_line()\n",
        "    \n",
        "def on_price_update(change):\n",
        "    new_current = change.new\n",
        "    strike_range.min = 0 # This makes sure that the max is greater than the min when updated\n",
        "    strike_range.max=new_current * 1.25\n",
        "    strike_range.min=new_current * 0.75 \n",
        "    strike_range.value = [new_current* .9, new_current* 1.1]\n",
        "\n",
        "txt_current.observe(on_price_update, names='value')\n",
        "btn_display.on_click(on_graph_update)\n",
        "\n",
        "VBox([txt_current, txt_riskRate, txt_expiration,in_vol_range, strike_range, btn_display])"
      ],
      "execution_count": 160,
      "outputs": [
        {
          "output_type": "display_data",
          "data": {
            "application/vnd.jupyter.widget-view+json": {
              "model_id": "5994318389f54d71b15916890f14cb97",
              "version_minor": 0,
              "version_major": 2
            },
            "text/plain": "VBox(children=(FloatText(value=225.0, description='Current Price'), FloatText(value=0.01, description='Risk Fr…"
          },
          "metadata": {}
        },
        {
          "output_type": "display_data",
          "data": {
            "image/png": "[encoded data removed]",
            "text/plain": "<Figure size 432x288 with 1 Axes>"
          },
          "metadata": {
            "needs_background": "light"
          }
        }
      ]
    },
    {
      "metadata": {
        "trusted": true
      },
      "cell_type": "code",
      "source": [
        "# Let's start with the stock's current price and give ourselves 10 options\n",
        "# in either direction, in 2.50 increments rounded to the nearest $2.50 above or below the price...  \n",
        "# So for the case where a stock is $86, we'll start going down from $85, $82.50.... and up from $85\n",
        "strike_step = (strike_range.max - strike_range.min) / 20\n",
        "strike_range_list = np.arange(strike_range.lower,strike_range.upper,strike_step)\n",
        "\n",
        "df_options = pd.DataFrame(strike_range_list,columns=['strike'])\n",
        "df_options[['Call','Put']] = df_options.apply(lambda x: BlackSholes(txt_current.value, \n",
        "                                                  x.strike, \n",
        "                                                  in_vol_range.value/100, \n",
        "                                                  riskFreeRate, \n",
        "                                                  txt_expiration.value),\n",
        "                                              axis=1, result_type='expand')\n",
        "df_options_long = pd.melt(df_options, ['strike'],var_name='put_call',value_name='price')\n",
        "pd.set_option('precision',5)\n",
        "df_options_long"
      ],
      "execution_count": 167,
      "outputs": [
        {
          "output_type": "execute_result",
          "execution_count": 167,
          "data": {
            "text/html": "<div>\n<style scoped>\n    .dataframe tbody tr th:only-of-type {\n        vertical-align: middle;\n    }\n\n    .dataframe tbody tr th {\n        vertical-align: top;\n    }\n\n    .dataframe thead th {\n        text-align: right;\n    }\n</style>\n<table border=\"1\" class=\"dataframe\">\n  <thead>\n    <tr style=\"text-align: right;\">\n      <th></th>\n      <th>strike</th>\n      <th>put_call</th>\n      <th>price</th>\n    </tr>\n  </thead>\n  <tbody>\n    <tr>\n      <th>0</th>\n      <td>202.5000</td>\n      <td>Call</td>\n      <td>2.25660e+01</td>\n    </tr>\n    <tr>\n      <th>1</th>\n      <td>210.9375</td>\n      <td>Call</td>\n      <td>1.41313e+01</td>\n    </tr>\n    <tr>\n      <th>2</th>\n      <td>219.3750</td>\n      <td>Call</td>\n      <td>5.69655e+00</td>\n    </tr>\n    <tr>\n      <th>3</th>\n      <td>227.8125</td>\n      <td>Call</td>\n      <td>2.55413e-02</td>\n    </tr>\n    <tr>\n      <th>4</th>\n      <td>236.2500</td>\n      <td>Call</td>\n      <td>2.82632e-13</td>\n    </tr>\n    <tr>\n      <th>5</th>\n      <td>244.6875</td>\n      <td>Call</td>\n      <td>1.04685e-34</td>\n    </tr>\n    <tr>\n      <th>6</th>\n      <td>202.5000</td>\n      <td>Put</td>\n      <td>6.45046e-54</td>\n    </tr>\n    <tr>\n      <th>7</th>\n      <td>210.9375</td>\n      <td>Put</td>\n      <td>5.83654e-22</td>\n    </tr>\n    <tr>\n      <th>8</th>\n      <td>219.3750</td>\n      <td>Put</td>\n      <td>3.92959e-05</td>\n    </tr>\n    <tr>\n      <th>9</th>\n      <td>227.8125</td>\n      <td>Put</td>\n      <td>2.76378e+00</td>\n    </tr>\n    <tr>\n      <th>10</th>\n      <td>236.2500</td>\n      <td>Put</td>\n      <td>1.11730e+01</td>\n    </tr>\n    <tr>\n      <th>11</th>\n      <td>244.6875</td>\n      <td>Put</td>\n      <td>1.96077e+01</td>\n    </tr>\n  </tbody>\n</table>\n</div>",
            "text/plain": "      strike put_call        price\n0   202.5000     Call  2.25660e+01\n1   210.9375     Call  1.41313e+01\n2   219.3750     Call  5.69655e+00\n3   227.8125     Call  2.55413e-02\n4   236.2500     Call  2.82632e-13\n5   244.6875     Call  1.04685e-34\n6   202.5000      Put  6.45046e-54\n7   210.9375      Put  5.83654e-22\n8   219.3750      Put  3.92959e-05\n9   227.8125      Put  2.76378e+00\n10  236.2500      Put  1.11730e+01\n11  244.6875      Put  1.96077e+01"
          },
          "metadata": {}
        }
      ]
    }
  ],
  "metadata": {
    "kernelspec": {
      "name": "python36",
      "display_name": "Python 3.6",
      "language": "python"
    },
    "varInspector": {
      "window_display": false,
      "cols": {
        "lenName": 16,
        "lenType": 16,
        "lenVar": 40
      },
      "kernels_config": {
        "python": {
          "library": "var_list.py",
          "delete_cmd_prefix": "del ",
          "delete_cmd_postfix": "",
          "varRefreshCmd": "print(var_dic_list())"
        },
        "r": {
          "library": "var_list.r",
          "delete_cmd_prefix": "rm(",
          "delete_cmd_postfix": ") ",
          "varRefreshCmd": "cat(var_dic_list()) "
        }
      },
      "types_to_exclude": [
        "module",
        "function",
        "builtin_function_or_method",
        "instance",
        "_Feature"
      ]
    },
    "celltoolbar": "Tags",
    "language_info": {
      "mimetype": "text/x-python",
      "nbconvert_exporter": "python",
      "name": "python",
      "pygments_lexer": "ipython3",
      "version": "3.6.6",
      "file_extension": ".py",
      "codemirror_mode": {
        "version": 3,
        "name": "ipython"
      }
    }
  },
  "nbformat": 4,
  "nbformat_minor": 2
}