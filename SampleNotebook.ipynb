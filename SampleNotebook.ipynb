{
  "cells": [
    {
      "metadata": {},
      "cell_type": "markdown",
      "source": "# Sample Notebook\n\n<p>Let's start here.  In Python, as in most programming languages, we have the ability to get very granualar in how we interact with the computer, but we can also stand on the shoulders of giants and reuse their work.  This is what we will opt to do as often as possible, other people have figured out the gory details of how to interpret the format of an Excel file so we don't have to - I'd rather depend on their work and focus on the real value add for our projects - that is spending time doing something with the data!</p>\n<br/>\nSo the first thing we are going to do is ask Python to \"load\" up the code that knows how to read Exxcel files.  The code is stored in a \"module\" called pandas (keep in mind that case matters, so Pandas is not the same as pandas).  For simplicity we are going to ask Python to make the utilities in this module available to us whenever we specify the shortcut 'pd'.  (The pd shortcut is common for Pandas).  On to the first set of code."
    },
    {
      "metadata": {
        "trusted": true,
        "tags": [
          "#init"
        ]
      },
      "cell_type": "code",
      "source": "# Notice the '#' symbol?  This symbol tells Python that we don't want it to try to 'run' the code on this line of text\n# This syntax is called a comment, and we can use it to clarify difficult code, or provide a hint as to what the next line (or several lines)\n#  of code are meant to do\n\n# Bring the Python module that can read Excel files into our scope so that we can use it, along with a few other helpful libraries\nimport pandas as pd\nfrom scipy import stats\nimport numpy as np",
      "execution_count": 29,
      "outputs": []
    },
    {
      "metadata": {
        "trusted": true,
        "tags": [
          "#init"
        ]
      },
      "cell_type": "code",
      "source": "# The two key things that Pandas provides us is a Series datatype and a Dataframe.  A series is like a list of values that have an index like a number or\n# a date value or a string.  A dataframe is a collection of Series all which share the same index.  So you can think of a dataframe type like a spreadsheet,\n# just like when you open a spreadsheet and you see the row numbers on the left side and the column headers across the top, a pandas dataframe is similar\ndf = pd.read_excel('data/Churn_Dirty.xlsx',index_col='ID')\n# The head function, lets use see the first few lines of the file we have loaded from the Excel file\nprint(df.shape)\ndf.head()",
      "execution_count": 6,
      "outputs": [
        {
          "output_type": "stream",
          "text": "(3333, 21)\n",
          "name": "stdout"
        },
        {
          "output_type": "execute_result",
          "execution_count": 6,
          "data": {
            "text/html": "<div>\n<style scoped>\n    .dataframe tbody tr th:only-of-type {\n        vertical-align: middle;\n    }\n\n    .dataframe tbody tr th {\n        vertical-align: top;\n    }\n\n    .dataframe thead th {\n        text-align: right;\n    }\n</style>\n<table border=\"1\" class=\"dataframe\">\n  <thead>\n    <tr style=\"text-align: right;\">\n      <th></th>\n      <th>State</th>\n      <th>Account Length</th>\n      <th>Area Code</th>\n      <th>Phone</th>\n      <th>Intl Plan</th>\n      <th>VMail Plan</th>\n      <th>VMail Message</th>\n      <th>Day Mins</th>\n      <th>Day Calls</th>\n      <th>Day Charge</th>\n      <th>...</th>\n      <th>Eve Calls</th>\n      <th>Eve Charge</th>\n      <th>Night Mins</th>\n      <th>Night Calls</th>\n      <th>Night Charge</th>\n      <th>Intl Mins</th>\n      <th>Intl Calls</th>\n      <th>Intl Charge</th>\n      <th>CustServ Calls</th>\n      <th>Churn</th>\n    </tr>\n    <tr>\n      <th>ID</th>\n      <th></th>\n      <th></th>\n      <th></th>\n      <th></th>\n      <th></th>\n      <th></th>\n      <th></th>\n      <th></th>\n      <th></th>\n      <th></th>\n      <th></th>\n      <th></th>\n      <th></th>\n      <th></th>\n      <th></th>\n      <th></th>\n      <th></th>\n      <th></th>\n      <th></th>\n      <th></th>\n      <th></th>\n    </tr>\n  </thead>\n  <tbody>\n    <tr>\n      <th>1</th>\n      <td>KS</td>\n      <td>128</td>\n      <td>415</td>\n      <td>382-4657</td>\n      <td>no</td>\n      <td>yes</td>\n      <td>25</td>\n      <td>265.1</td>\n      <td>110</td>\n      <td>45.07</td>\n      <td>...</td>\n      <td>99</td>\n      <td>16.78</td>\n      <td>244.7</td>\n      <td>91</td>\n      <td>11.01</td>\n      <td>10.0</td>\n      <td>3</td>\n      <td>2.70</td>\n      <td>1</td>\n      <td>False</td>\n    </tr>\n    <tr>\n      <th>2</th>\n      <td>OH</td>\n      <td>107</td>\n      <td>415</td>\n      <td>371-7191</td>\n      <td>no</td>\n      <td>yes</td>\n      <td>26</td>\n      <td>161.6</td>\n      <td>123</td>\n      <td>27.47</td>\n      <td>...</td>\n      <td>103</td>\n      <td>16.62</td>\n      <td>254.4</td>\n      <td>103</td>\n      <td>11.45</td>\n      <td>13.7</td>\n      <td>3</td>\n      <td>3.70</td>\n      <td>1</td>\n      <td>False</td>\n    </tr>\n    <tr>\n      <th>3</th>\n      <td>NJ</td>\n      <td>137</td>\n      <td>415</td>\n      <td>358-1921</td>\n      <td>no</td>\n      <td>no</td>\n      <td>0</td>\n      <td>243.4</td>\n      <td>114</td>\n      <td>41.38</td>\n      <td>...</td>\n      <td>110</td>\n      <td>10.30</td>\n      <td>162.6</td>\n      <td>104</td>\n      <td>7.32</td>\n      <td>12.2</td>\n      <td>5</td>\n      <td>3.29</td>\n      <td>0</td>\n      <td>False</td>\n    </tr>\n    <tr>\n      <th>4</th>\n      <td>OH</td>\n      <td>84</td>\n      <td>408</td>\n      <td>375-9999</td>\n      <td>yes</td>\n      <td>no</td>\n      <td>0</td>\n      <td>299.4</td>\n      <td>71</td>\n      <td>50.90</td>\n      <td>...</td>\n      <td>88</td>\n      <td>5.26</td>\n      <td>196.9</td>\n      <td>89</td>\n      <td>8.86</td>\n      <td>6.6</td>\n      <td>7</td>\n      <td>1.78</td>\n      <td>2</td>\n      <td>False</td>\n    </tr>\n    <tr>\n      <th>5</th>\n      <td>OK</td>\n      <td>75</td>\n      <td>415</td>\n      <td>330-6626</td>\n      <td>yes</td>\n      <td>no</td>\n      <td>0</td>\n      <td>166.7</td>\n      <td>113</td>\n      <td>28.34</td>\n      <td>...</td>\n      <td>122</td>\n      <td>12.61</td>\n      <td>186.9</td>\n      <td>121</td>\n      <td>8.41</td>\n      <td>10.1</td>\n      <td>3</td>\n      <td>2.73</td>\n      <td>3</td>\n      <td>False</td>\n    </tr>\n  </tbody>\n</table>\n<p>5 rows × 21 columns</p>\n</div>",
            "text/plain": "   State  Account Length  Area Code     Phone Intl Plan VMail Plan  \\\nID                                                                   \n1     KS             128        415  382-4657        no        yes   \n2     OH             107        415  371-7191        no        yes   \n3     NJ             137        415  358-1921        no         no   \n4     OH              84        408  375-9999       yes         no   \n5     OK              75        415  330-6626       yes         no   \n\n    VMail Message  Day Mins  Day Calls  Day Charge  ...    Eve Calls  \\\nID                                                  ...                \n1              25     265.1        110       45.07  ...           99   \n2              26     161.6        123       27.47  ...          103   \n3               0     243.4        114       41.38  ...          110   \n4               0     299.4         71       50.90  ...           88   \n5               0     166.7        113       28.34  ...          122   \n\n    Eve Charge  Night Mins  Night Calls  Night Charge  Intl Mins  Intl Calls  \\\nID                                                                             \n1        16.78       244.7           91         11.01       10.0           3   \n2        16.62       254.4          103         11.45       13.7           3   \n3        10.30       162.6          104          7.32       12.2           5   \n4         5.26       196.9           89          8.86        6.6           7   \n5        12.61       186.9          121          8.41       10.1           3   \n\n    Intl Charge  CustServ Calls  Churn  \nID                                      \n1          2.70               1  False  \n2          3.70               1  False  \n3          3.29               0  False  \n4          1.78               2  False  \n5          2.73               3  False  \n\n[5 rows x 21 columns]"
          },
          "metadata": {}
        }
      ]
    },
    {
      "metadata": {
        "trusted": true
      },
      "cell_type": "markdown",
      "source": "So now that we have a sense of what our dataframe looks like, we can see that it has a column called ID, which is the 'index' or the row name, and \nthe bold characters across the top give us the name of the columns.  We could look at the entire thing, but that is cumbersome, what we'd rather have is a view a summary of the data, that will help us to understand what we are looking at"
    },
    {
      "metadata": {
        "trusted": true,
        "tags": [
          "#=>init"
        ]
      },
      "cell_type": "code",
      "source": "df.describe()",
      "execution_count": 4,
      "outputs": [
        {
          "output_type": "execute_result",
          "execution_count": 4,
          "data": {
            "text/html": "<div>\n<style scoped>\n    .dataframe tbody tr th:only-of-type {\n        vertical-align: middle;\n    }\n\n    .dataframe tbody tr th {\n        vertical-align: top;\n    }\n\n    .dataframe thead th {\n        text-align: right;\n    }\n</style>\n<table border=\"1\" class=\"dataframe\">\n  <thead>\n    <tr style=\"text-align: right;\">\n      <th></th>\n      <th>Account Length</th>\n      <th>Area Code</th>\n      <th>VMail Message</th>\n      <th>Day Mins</th>\n      <th>Day Calls</th>\n      <th>Day Charge</th>\n      <th>Eve Mins</th>\n      <th>Eve Calls</th>\n      <th>Eve Charge</th>\n      <th>Night Mins</th>\n      <th>Night Calls</th>\n      <th>Night Charge</th>\n      <th>Intl Mins</th>\n      <th>Intl Calls</th>\n      <th>Intl Charge</th>\n      <th>CustServ Calls</th>\n    </tr>\n  </thead>\n  <tbody>\n    <tr>\n      <th>count</th>\n      <td>3333.000000</td>\n      <td>3333.000000</td>\n      <td>3333.000000</td>\n      <td>3333.000000</td>\n      <td>3333.000000</td>\n      <td>3333.000000</td>\n      <td>3333.000000</td>\n      <td>3333.000000</td>\n      <td>3333.000000</td>\n      <td>3333.000000</td>\n      <td>3333.000000</td>\n      <td>3333.000000</td>\n      <td>3333.000000</td>\n      <td>3333.000000</td>\n      <td>3333.000000</td>\n      <td>3333.000000</td>\n    </tr>\n    <tr>\n      <th>mean</th>\n      <td>101.021002</td>\n      <td>437.182418</td>\n      <td>8.085209</td>\n      <td>179.775098</td>\n      <td>109.405341</td>\n      <td>30.562307</td>\n      <td>200.980348</td>\n      <td>100.026103</td>\n      <td>17.083540</td>\n      <td>208.269847</td>\n      <td>100.053105</td>\n      <td>9.035161</td>\n      <td>10.230693</td>\n      <td>5.678368</td>\n      <td>2.763057</td>\n      <td>1.561056</td>\n    </tr>\n    <tr>\n      <th>std</th>\n      <td>39.933132</td>\n      <td>42.371290</td>\n      <td>13.696524</td>\n      <td>54.467389</td>\n      <td>518.290257</td>\n      <td>9.259435</td>\n      <td>50.713844</td>\n      <td>20.361003</td>\n      <td>4.310668</td>\n      <td>428.510605</td>\n      <td>19.845998</td>\n      <td>2.292355</td>\n      <td>2.815939</td>\n      <td>69.251653</td>\n      <td>0.759342</td>\n      <td>1.317627</td>\n    </tr>\n    <tr>\n      <th>min</th>\n      <td>-73.000000</td>\n      <td>408.000000</td>\n      <td>-23.000000</td>\n      <td>0.000000</td>\n      <td>0.000000</td>\n      <td>0.000000</td>\n      <td>0.000000</td>\n      <td>-147.000000</td>\n      <td>0.000000</td>\n      <td>23.200000</td>\n      <td>-91.000000</td>\n      <td>-6.940000</td>\n      <td>-11.000000</td>\n      <td>0.000000</td>\n      <td>-2.540000</td>\n      <td>-3.000000</td>\n    </tr>\n    <tr>\n      <th>25%</th>\n      <td>74.000000</td>\n      <td>408.000000</td>\n      <td>0.000000</td>\n      <td>143.700000</td>\n      <td>87.000000</td>\n      <td>24.430000</td>\n      <td>166.600000</td>\n      <td>87.000000</td>\n      <td>14.160000</td>\n      <td>167.100000</td>\n      <td>87.000000</td>\n      <td>7.520000</td>\n      <td>8.500000</td>\n      <td>3.000000</td>\n      <td>2.300000</td>\n      <td>1.000000</td>\n    </tr>\n    <tr>\n      <th>50%</th>\n      <td>101.000000</td>\n      <td>415.000000</td>\n      <td>0.000000</td>\n      <td>179.400000</td>\n      <td>101.000000</td>\n      <td>30.500000</td>\n      <td>201.400000</td>\n      <td>100.000000</td>\n      <td>17.120000</td>\n      <td>201.200000</td>\n      <td>100.000000</td>\n      <td>9.050000</td>\n      <td>10.300000</td>\n      <td>4.000000</td>\n      <td>2.780000</td>\n      <td>1.000000</td>\n    </tr>\n    <tr>\n      <th>75%</th>\n      <td>127.000000</td>\n      <td>510.000000</td>\n      <td>20.000000</td>\n      <td>216.400000</td>\n      <td>114.000000</td>\n      <td>36.790000</td>\n      <td>235.300000</td>\n      <td>114.000000</td>\n      <td>20.000000</td>\n      <td>235.400000</td>\n      <td>113.000000</td>\n      <td>10.590000</td>\n      <td>12.100000</td>\n      <td>6.000000</td>\n      <td>3.270000</td>\n      <td>2.000000</td>\n    </tr>\n    <tr>\n      <th>max</th>\n      <td>243.000000</td>\n      <td>510.000000</td>\n      <td>51.000000</td>\n      <td>350.800000</td>\n      <td>30000.000000</td>\n      <td>59.640000</td>\n      <td>363.700000</td>\n      <td>170.000000</td>\n      <td>30.910000</td>\n      <td>24767.000000</td>\n      <td>175.000000</td>\n      <td>17.770000</td>\n      <td>20.000000</td>\n      <td>4000.000000</td>\n      <td>5.400000</td>\n      <td>9.000000</td>\n    </tr>\n  </tbody>\n</table>\n</div>",
            "text/plain": "       Account Length    Area Code  VMail Message     Day Mins     Day Calls  \\\ncount     3333.000000  3333.000000    3333.000000  3333.000000   3333.000000   \nmean       101.021002   437.182418       8.085209   179.775098    109.405341   \nstd         39.933132    42.371290      13.696524    54.467389    518.290257   \nmin        -73.000000   408.000000     -23.000000     0.000000      0.000000   \n25%         74.000000   408.000000       0.000000   143.700000     87.000000   \n50%        101.000000   415.000000       0.000000   179.400000    101.000000   \n75%        127.000000   510.000000      20.000000   216.400000    114.000000   \nmax        243.000000   510.000000      51.000000   350.800000  30000.000000   \n\n        Day Charge     Eve Mins    Eve Calls   Eve Charge    Night Mins  \\\ncount  3333.000000  3333.000000  3333.000000  3333.000000   3333.000000   \nmean     30.562307   200.980348   100.026103    17.083540    208.269847   \nstd       9.259435    50.713844    20.361003     4.310668    428.510605   \nmin       0.000000     0.000000  -147.000000     0.000000     23.200000   \n25%      24.430000   166.600000    87.000000    14.160000    167.100000   \n50%      30.500000   201.400000   100.000000    17.120000    201.200000   \n75%      36.790000   235.300000   114.000000    20.000000    235.400000   \nmax      59.640000   363.700000   170.000000    30.910000  24767.000000   \n\n       Night Calls  Night Charge    Intl Mins   Intl Calls  Intl Charge  \\\ncount  3333.000000   3333.000000  3333.000000  3333.000000  3333.000000   \nmean    100.053105      9.035161    10.230693     5.678368     2.763057   \nstd      19.845998      2.292355     2.815939    69.251653     0.759342   \nmin     -91.000000     -6.940000   -11.000000     0.000000    -2.540000   \n25%      87.000000      7.520000     8.500000     3.000000     2.300000   \n50%     100.000000      9.050000    10.300000     4.000000     2.780000   \n75%     113.000000     10.590000    12.100000     6.000000     3.270000   \nmax     175.000000     17.770000    20.000000  4000.000000     5.400000   \n\n       CustServ Calls  \ncount     3333.000000  \nmean         1.561056  \nstd          1.317627  \nmin         -3.000000  \n25%          1.000000  \n50%          1.000000  \n75%          2.000000  \nmax          9.000000  "
          },
          "metadata": {}
        }
      ]
    },
    {
      "metadata": {
        "trusted": true
      },
      "cell_type": "markdown",
      "source": "Now, that is helpful.  We can see for each column the number of rows, the mean, the max, the min, the standard deviation and the different quartiles.  That is super helpful.\n\nWait a minute... it looks like Account Length has a value that is less than zero.  That doesn't make any sense.  Let's see if we can find out if this is a common issue or a one-off."
    },
    {
      "metadata": {
        "trusted": true,
        "tags": [
          "=>init"
        ]
      },
      "cell_type": "code",
      "source": "# This is a fancy way of saying, show me all the rows where 'Account Length' values are less than zero\ndf[df['Account Length'] < 0]",
      "execution_count": 7,
      "outputs": [
        {
          "output_type": "execute_result",
          "execution_count": 7,
          "data": {
            "text/html": "<div>\n<style scoped>\n    .dataframe tbody tr th:only-of-type {\n        vertical-align: middle;\n    }\n\n    .dataframe tbody tr th {\n        vertical-align: top;\n    }\n\n    .dataframe thead th {\n        text-align: right;\n    }\n</style>\n<table border=\"1\" class=\"dataframe\">\n  <thead>\n    <tr style=\"text-align: right;\">\n      <th></th>\n      <th>State</th>\n      <th>Account Length</th>\n      <th>Area Code</th>\n      <th>Phone</th>\n      <th>Intl Plan</th>\n      <th>VMail Plan</th>\n      <th>VMail Message</th>\n      <th>Day Mins</th>\n      <th>Day Calls</th>\n      <th>Day Charge</th>\n      <th>...</th>\n      <th>Eve Calls</th>\n      <th>Eve Charge</th>\n      <th>Night Mins</th>\n      <th>Night Calls</th>\n      <th>Night Charge</th>\n      <th>Intl Mins</th>\n      <th>Intl Calls</th>\n      <th>Intl Charge</th>\n      <th>CustServ Calls</th>\n      <th>Churn</th>\n    </tr>\n    <tr>\n      <th>ID</th>\n      <th></th>\n      <th></th>\n      <th></th>\n      <th></th>\n      <th></th>\n      <th></th>\n      <th></th>\n      <th></th>\n      <th></th>\n      <th></th>\n      <th></th>\n      <th></th>\n      <th></th>\n      <th></th>\n      <th></th>\n      <th></th>\n      <th></th>\n      <th></th>\n      <th></th>\n      <th></th>\n      <th></th>\n    </tr>\n  </thead>\n  <tbody>\n    <tr>\n      <th>1950</th>\n      <td>WI</td>\n      <td>-73</td>\n      <td>415</td>\n      <td>419-4894</td>\n      <td>no</td>\n      <td>no</td>\n      <td>0</td>\n      <td>157.1</td>\n      <td>109</td>\n      <td>26.71</td>\n      <td>...</td>\n      <td>83</td>\n      <td>22.85</td>\n      <td>181.5</td>\n      <td>91</td>\n      <td>8.17</td>\n      <td>10.0</td>\n      <td>8</td>\n      <td>2.7</td>\n      <td>0</td>\n      <td>True</td>\n    </tr>\n  </tbody>\n</table>\n<p>1 rows × 21 columns</p>\n</div>",
            "text/plain": "     State  Account Length  Area Code     Phone Intl Plan VMail Plan  \\\nID                                                                     \n1950    WI             -73        415  419-4894        no         no   \n\n      VMail Message  Day Mins  Day Calls  Day Charge  ...    Eve Calls  \\\nID                                                    ...                \n1950              0     157.1        109       26.71  ...           83   \n\n      Eve Charge  Night Mins  Night Calls  Night Charge  Intl Mins  \\\nID                                                                   \n1950       22.85       181.5           91          8.17       10.0   \n\n      Intl Calls  Intl Charge  CustServ Calls  Churn  \nID                                                    \n1950           8          2.7               0   True  \n\n[1 rows x 21 columns]"
          },
          "metadata": {}
        }
      ]
    },
    {
      "metadata": {},
      "cell_type": "markdown",
      "source": "Wheh!  It looks like only one of them was below zero, I'll bet someone just made a mistake and it should be positive.  Let's change it, in this case - we'll just take the absolute value of the the values (while we are at it lets do it for all the columns with negative values that shouldn't be negative"
    },
    {
      "metadata": {
        "trusted": true
      },
      "cell_type": "code",
      "source": "df['Account Length']=df['Account Length'].abs()\ndf['VMail Message']=df['VMail Message'].abs()\ndf['Eve Calls']=df['Eve Calls'].abs()\ndf['Night Calls']=df['Night Calls'].abs()\ndf['Night Charge']=df['Night Charge'].abs()\ndf['Intl Mins']=df['Intl Mins'].abs()\ndf['CustServ Calls']=df['CustServ Calls'].abs()",
      "execution_count": 23,
      "outputs": []
    },
    {
      "metadata": {
        "trusted": true
      },
      "cell_type": "code",
      "source": "df.describe()",
      "execution_count": 26,
      "outputs": [
        {
          "output_type": "execute_result",
          "execution_count": 26,
          "data": {
            "text/html": "<div>\n<style scoped>\n    .dataframe tbody tr th:only-of-type {\n        vertical-align: middle;\n    }\n\n    .dataframe tbody tr th {\n        vertical-align: top;\n    }\n\n    .dataframe thead th {\n        text-align: right;\n    }\n</style>\n<table border=\"1\" class=\"dataframe\">\n  <thead>\n    <tr style=\"text-align: right;\">\n      <th></th>\n      <th>Account Length</th>\n      <th>Area Code</th>\n      <th>VMail Message</th>\n      <th>Day Mins</th>\n      <th>Day Calls</th>\n      <th>Day Charge</th>\n      <th>Eve Mins</th>\n      <th>Eve Calls</th>\n      <th>Eve Charge</th>\n      <th>Night Mins</th>\n      <th>Night Calls</th>\n      <th>Night Charge</th>\n      <th>Intl Mins</th>\n      <th>Intl Calls</th>\n      <th>Intl Charge</th>\n      <th>CustServ Calls</th>\n    </tr>\n  </thead>\n  <tbody>\n    <tr>\n      <th>count</th>\n      <td>3333.000000</td>\n      <td>3333.000000</td>\n      <td>3333.000000</td>\n      <td>3333.000000</td>\n      <td>3333.000000</td>\n      <td>3333.000000</td>\n      <td>3333.000000</td>\n      <td>3333.000000</td>\n      <td>3333.000000</td>\n      <td>3333.000000</td>\n      <td>3333.000000</td>\n      <td>3333.000000</td>\n      <td>3333.000000</td>\n      <td>3333.000000</td>\n      <td>3333.000000</td>\n      <td>3333.000000</td>\n    </tr>\n    <tr>\n      <th>mean</th>\n      <td>101.064806</td>\n      <td>437.182418</td>\n      <td>8.099010</td>\n      <td>179.775098</td>\n      <td>109.405341</td>\n      <td>30.562307</td>\n      <td>200.980348</td>\n      <td>100.114311</td>\n      <td>17.083540</td>\n      <td>208.269847</td>\n      <td>100.107711</td>\n      <td>9.039325</td>\n      <td>10.237294</td>\n      <td>5.678368</td>\n      <td>2.763057</td>\n      <td>1.562856</td>\n    </tr>\n    <tr>\n      <th>std</th>\n      <td>39.822106</td>\n      <td>42.371290</td>\n      <td>13.688365</td>\n      <td>54.467389</td>\n      <td>518.290257</td>\n      <td>9.259435</td>\n      <td>50.713844</td>\n      <td>19.922625</td>\n      <td>4.310668</td>\n      <td>428.510605</td>\n      <td>19.568609</td>\n      <td>2.275873</td>\n      <td>2.791840</td>\n      <td>69.251653</td>\n      <td>0.759342</td>\n      <td>1.315491</td>\n    </tr>\n    <tr>\n      <th>min</th>\n      <td>1.000000</td>\n      <td>408.000000</td>\n      <td>0.000000</td>\n      <td>0.000000</td>\n      <td>0.000000</td>\n      <td>0.000000</td>\n      <td>0.000000</td>\n      <td>0.000000</td>\n      <td>0.000000</td>\n      <td>23.200000</td>\n      <td>33.000000</td>\n      <td>1.040000</td>\n      <td>0.000000</td>\n      <td>0.000000</td>\n      <td>-2.540000</td>\n      <td>0.000000</td>\n    </tr>\n    <tr>\n      <th>25%</th>\n      <td>74.000000</td>\n      <td>408.000000</td>\n      <td>0.000000</td>\n      <td>143.700000</td>\n      <td>87.000000</td>\n      <td>24.430000</td>\n      <td>166.600000</td>\n      <td>87.000000</td>\n      <td>14.160000</td>\n      <td>167.100000</td>\n      <td>87.000000</td>\n      <td>7.520000</td>\n      <td>8.500000</td>\n      <td>3.000000</td>\n      <td>2.300000</td>\n      <td>1.000000</td>\n    </tr>\n    <tr>\n      <th>50%</th>\n      <td>101.000000</td>\n      <td>415.000000</td>\n      <td>0.000000</td>\n      <td>179.400000</td>\n      <td>101.000000</td>\n      <td>30.500000</td>\n      <td>201.400000</td>\n      <td>100.000000</td>\n      <td>17.120000</td>\n      <td>201.200000</td>\n      <td>100.000000</td>\n      <td>9.050000</td>\n      <td>10.300000</td>\n      <td>4.000000</td>\n      <td>2.780000</td>\n      <td>1.000000</td>\n    </tr>\n    <tr>\n      <th>75%</th>\n      <td>127.000000</td>\n      <td>510.000000</td>\n      <td>20.000000</td>\n      <td>216.400000</td>\n      <td>114.000000</td>\n      <td>36.790000</td>\n      <td>235.300000</td>\n      <td>114.000000</td>\n      <td>20.000000</td>\n      <td>235.400000</td>\n      <td>113.000000</td>\n      <td>10.590000</td>\n      <td>12.100000</td>\n      <td>6.000000</td>\n      <td>3.270000</td>\n      <td>2.000000</td>\n    </tr>\n    <tr>\n      <th>max</th>\n      <td>243.000000</td>\n      <td>510.000000</td>\n      <td>51.000000</td>\n      <td>350.800000</td>\n      <td>30000.000000</td>\n      <td>59.640000</td>\n      <td>363.700000</td>\n      <td>170.000000</td>\n      <td>30.910000</td>\n      <td>24767.000000</td>\n      <td>175.000000</td>\n      <td>17.770000</td>\n      <td>20.000000</td>\n      <td>4000.000000</td>\n      <td>5.400000</td>\n      <td>9.000000</td>\n    </tr>\n  </tbody>\n</table>\n</div>",
            "text/plain": "       Account Length    Area Code  VMail Message     Day Mins     Day Calls  \\\ncount     3333.000000  3333.000000    3333.000000  3333.000000   3333.000000   \nmean       101.064806   437.182418       8.099010   179.775098    109.405341   \nstd         39.822106    42.371290      13.688365    54.467389    518.290257   \nmin          1.000000   408.000000       0.000000     0.000000      0.000000   \n25%         74.000000   408.000000       0.000000   143.700000     87.000000   \n50%        101.000000   415.000000       0.000000   179.400000    101.000000   \n75%        127.000000   510.000000      20.000000   216.400000    114.000000   \nmax        243.000000   510.000000      51.000000   350.800000  30000.000000   \n\n        Day Charge     Eve Mins    Eve Calls   Eve Charge    Night Mins  \\\ncount  3333.000000  3333.000000  3333.000000  3333.000000   3333.000000   \nmean     30.562307   200.980348   100.114311    17.083540    208.269847   \nstd       9.259435    50.713844    19.922625     4.310668    428.510605   \nmin       0.000000     0.000000     0.000000     0.000000     23.200000   \n25%      24.430000   166.600000    87.000000    14.160000    167.100000   \n50%      30.500000   201.400000   100.000000    17.120000    201.200000   \n75%      36.790000   235.300000   114.000000    20.000000    235.400000   \nmax      59.640000   363.700000   170.000000    30.910000  24767.000000   \n\n       Night Calls  Night Charge    Intl Mins   Intl Calls  Intl Charge  \\\ncount  3333.000000   3333.000000  3333.000000  3333.000000  3333.000000   \nmean    100.107711      9.039325    10.237294     5.678368     2.763057   \nstd      19.568609      2.275873     2.791840    69.251653     0.759342   \nmin      33.000000      1.040000     0.000000     0.000000    -2.540000   \n25%      87.000000      7.520000     8.500000     3.000000     2.300000   \n50%     100.000000      9.050000    10.300000     4.000000     2.780000   \n75%     113.000000     10.590000    12.100000     6.000000     3.270000   \nmax     175.000000     17.770000    20.000000  4000.000000     5.400000   \n\n       CustServ Calls  \ncount     3333.000000  \nmean         1.562856  \nstd          1.315491  \nmin          0.000000  \n25%          1.000000  \n50%          1.000000  \n75%          2.000000  \nmax          9.000000  "
          },
          "metadata": {}
        }
      ]
    },
    {
      "metadata": {},
      "cell_type": "markdown",
      "source": "# Now we should take care of removing the rows where we have outliers\nIn our purposes we are going to assume outliers are any values where the value is more than 3 standard deviations from the mean"
    },
    {
      "metadata": {
        "trusted": true
      },
      "cell_type": "code",
      "source": "# So lets' find the rows where any of the columns have a std that is greater than 3 (we are using abs because it doesn't matter if it's > 3 or < -3)\ndef remove_outliers(df_in, col_name):\n    return df_in[(np.abs(stats.zscore(df_in[col_name])) < 3)]\n    \n#df = remove_outliers(df, 'Day Calls')\n#df = remove_outliers(df, 'Night Mins')\n#df = remove_outliers(df,'Intl Calls')\ndf = remove_outliers(df, 'VMail Message')\ndf.describe()",
      "execution_count": 39,
      "outputs": [
        {
          "output_type": "execute_result",
          "execution_count": 39,
          "data": {
            "text/html": "<div>\n<style scoped>\n    .dataframe tbody tr th:only-of-type {\n        vertical-align: middle;\n    }\n\n    .dataframe tbody tr th {\n        vertical-align: top;\n    }\n\n    .dataframe thead th {\n        text-align: right;\n    }\n</style>\n<table border=\"1\" class=\"dataframe\">\n  <thead>\n    <tr style=\"text-align: right;\">\n      <th></th>\n      <th>Account Length</th>\n      <th>Area Code</th>\n      <th>VMail Message</th>\n      <th>Day Mins</th>\n      <th>Day Calls</th>\n      <th>Day Charge</th>\n      <th>Eve Mins</th>\n      <th>Eve Calls</th>\n      <th>Eve Charge</th>\n      <th>Night Mins</th>\n      <th>Night Calls</th>\n      <th>Night Charge</th>\n      <th>Intl Mins</th>\n      <th>Intl Calls</th>\n      <th>Intl Charge</th>\n      <th>CustServ Calls</th>\n    </tr>\n  </thead>\n  <tbody>\n    <tr>\n      <th>count</th>\n      <td>3318.000000</td>\n      <td>3318.000000</td>\n      <td>3318.000000</td>\n      <td>3318.000000</td>\n      <td>3318.000000</td>\n      <td>3318.000000</td>\n      <td>3318.000000</td>\n      <td>3318.000000</td>\n      <td>3318.000000</td>\n      <td>3318.000000</td>\n      <td>3318.000000</td>\n      <td>3318.000000</td>\n      <td>3318.000000</td>\n      <td>3318.000000</td>\n      <td>3318.000000</td>\n      <td>3318.000000</td>\n    </tr>\n    <tr>\n      <th>mean</th>\n      <td>101.073840</td>\n      <td>437.203134</td>\n      <td>8.053647</td>\n      <td>179.850271</td>\n      <td>100.556058</td>\n      <td>30.575084</td>\n      <td>201.052471</td>\n      <td>100.075347</td>\n      <td>17.089668</td>\n      <td>200.957866</td>\n      <td>100.095539</td>\n      <td>9.043192</td>\n      <td>10.238969</td>\n      <td>4.481314</td>\n      <td>2.763502</td>\n      <td>1.560579</td>\n    </tr>\n    <tr>\n      <th>std</th>\n      <td>39.857853</td>\n      <td>42.385653</td>\n      <td>13.630757</td>\n      <td>54.284426</td>\n      <td>19.732879</td>\n      <td>9.228328</td>\n      <td>50.708105</td>\n      <td>19.908648</td>\n      <td>4.310182</td>\n      <td>50.597661</td>\n      <td>19.585167</td>\n      <td>2.276942</td>\n      <td>2.792631</td>\n      <td>2.462890</td>\n      <td>0.759581</td>\n      <td>1.314941</td>\n    </tr>\n    <tr>\n      <th>min</th>\n      <td>1.000000</td>\n      <td>408.000000</td>\n      <td>0.000000</td>\n      <td>2.600000</td>\n      <td>42.000000</td>\n      <td>0.440000</td>\n      <td>0.000000</td>\n      <td>0.000000</td>\n      <td>0.000000</td>\n      <td>23.200000</td>\n      <td>33.000000</td>\n      <td>1.040000</td>\n      <td>0.000000</td>\n      <td>0.000000</td>\n      <td>-2.540000</td>\n      <td>0.000000</td>\n    </tr>\n    <tr>\n      <th>25%</th>\n      <td>74.000000</td>\n      <td>408.000000</td>\n      <td>0.000000</td>\n      <td>143.700000</td>\n      <td>87.000000</td>\n      <td>24.430000</td>\n      <td>166.625000</td>\n      <td>87.000000</td>\n      <td>14.162500</td>\n      <td>167.100000</td>\n      <td>87.000000</td>\n      <td>7.520000</td>\n      <td>8.500000</td>\n      <td>3.000000</td>\n      <td>2.300000</td>\n      <td>1.000000</td>\n    </tr>\n    <tr>\n      <th>50%</th>\n      <td>101.000000</td>\n      <td>415.000000</td>\n      <td>0.000000</td>\n      <td>179.400000</td>\n      <td>101.000000</td>\n      <td>30.500000</td>\n      <td>201.500000</td>\n      <td>100.000000</td>\n      <td>17.130000</td>\n      <td>201.350000</td>\n      <td>100.000000</td>\n      <td>9.060000</td>\n      <td>10.300000</td>\n      <td>4.000000</td>\n      <td>2.780000</td>\n      <td>1.000000</td>\n    </tr>\n    <tr>\n      <th>75%</th>\n      <td>127.000000</td>\n      <td>510.000000</td>\n      <td>19.000000</td>\n      <td>216.375000</td>\n      <td>114.000000</td>\n      <td>36.785000</td>\n      <td>235.300000</td>\n      <td>113.750000</td>\n      <td>20.000000</td>\n      <td>235.400000</td>\n      <td>113.000000</td>\n      <td>10.590000</td>\n      <td>12.100000</td>\n      <td>6.000000</td>\n      <td>3.270000</td>\n      <td>2.000000</td>\n    </tr>\n    <tr>\n      <th>max</th>\n      <td>243.000000</td>\n      <td>510.000000</td>\n      <td>49.000000</td>\n      <td>350.800000</td>\n      <td>160.000000</td>\n      <td>59.640000</td>\n      <td>363.700000</td>\n      <td>170.000000</td>\n      <td>30.910000</td>\n      <td>395.000000</td>\n      <td>175.000000</td>\n      <td>17.770000</td>\n      <td>20.000000</td>\n      <td>20.000000</td>\n      <td>5.400000</td>\n      <td>9.000000</td>\n    </tr>\n  </tbody>\n</table>\n</div>",
            "text/plain": "       Account Length    Area Code  VMail Message     Day Mins    Day Calls  \\\ncount     3318.000000  3318.000000    3318.000000  3318.000000  3318.000000   \nmean       101.073840   437.203134       8.053647   179.850271   100.556058   \nstd         39.857853    42.385653      13.630757    54.284426    19.732879   \nmin          1.000000   408.000000       0.000000     2.600000    42.000000   \n25%         74.000000   408.000000       0.000000   143.700000    87.000000   \n50%        101.000000   415.000000       0.000000   179.400000   101.000000   \n75%        127.000000   510.000000      19.000000   216.375000   114.000000   \nmax        243.000000   510.000000      49.000000   350.800000   160.000000   \n\n        Day Charge     Eve Mins    Eve Calls   Eve Charge   Night Mins  \\\ncount  3318.000000  3318.000000  3318.000000  3318.000000  3318.000000   \nmean     30.575084   201.052471   100.075347    17.089668   200.957866   \nstd       9.228328    50.708105    19.908648     4.310182    50.597661   \nmin       0.440000     0.000000     0.000000     0.000000    23.200000   \n25%      24.430000   166.625000    87.000000    14.162500   167.100000   \n50%      30.500000   201.500000   100.000000    17.130000   201.350000   \n75%      36.785000   235.300000   113.750000    20.000000   235.400000   \nmax      59.640000   363.700000   170.000000    30.910000   395.000000   \n\n       Night Calls  Night Charge    Intl Mins   Intl Calls  Intl Charge  \\\ncount  3318.000000   3318.000000  3318.000000  3318.000000  3318.000000   \nmean    100.095539      9.043192    10.238969     4.481314     2.763502   \nstd      19.585167      2.276942     2.792631     2.462890     0.759581   \nmin      33.000000      1.040000     0.000000     0.000000    -2.540000   \n25%      87.000000      7.520000     8.500000     3.000000     2.300000   \n50%     100.000000      9.060000    10.300000     4.000000     2.780000   \n75%     113.000000     10.590000    12.100000     6.000000     3.270000   \nmax     175.000000     17.770000    20.000000    20.000000     5.400000   \n\n       CustServ Calls  \ncount     3318.000000  \nmean         1.560579  \nstd          1.314941  \nmin          0.000000  \n25%          1.000000  \n50%          1.000000  \n75%          2.000000  \nmax          9.000000  "
          },
          "metadata": {}
        }
      ]
    },
    {
      "metadata": {},
      "cell_type": "markdown",
      "source": "# Looks like area code is being seen as a float, this doesn't make any sense.\nSo, we should likely let Pandas know this is more likely "
    }
  ],
  "metadata": {
    "kernelspec": {
      "name": "python36",
      "display_name": "Python 3.6",
      "language": "python"
    },
    "language_info": {
      "mimetype": "text/x-python",
      "nbconvert_exporter": "python",
      "name": "python",
      "pygments_lexer": "ipython3",
      "version": "3.6.6",
      "file_extension": ".py",
      "codemirror_mode": {
        "version": 3,
        "name": "ipython"
      }
    },
    "varInspector": {
      "window_display": false,
      "cols": {
        "lenName": 16,
        "lenType": 16,
        "lenVar": 40
      },
      "kernels_config": {
        "python": {
          "library": "var_list.py",
          "delete_cmd_prefix": "del ",
          "delete_cmd_postfix": "",
          "varRefreshCmd": "print(var_dic_list())"
        },
        "r": {
          "library": "var_list.r",
          "delete_cmd_prefix": "rm(",
          "delete_cmd_postfix": ") ",
          "varRefreshCmd": "cat(var_dic_list()) "
        }
      },
      "types_to_exclude": [
        "module",
        "function",
        "builtin_function_or_method",
        "instance",
        "_Feature"
      ]
    },
    "celltoolbar": "Tags"
  },
  "nbformat": 4,
  "nbformat_minor": 2
}