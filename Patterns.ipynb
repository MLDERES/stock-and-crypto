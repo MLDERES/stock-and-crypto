{
 "cells": [
  {
   "cell_type": "markdown",
   "metadata": {},
   "source": [
    "# Recognizing Patterns\n",
    "In this notebook we'll use the data we found in the other notebook to see if we can find any signals in our data.  We'll start with the simple patterns from [CandlestickPatterns](https://en.wikipedia.org/wiki/Candlestick_pattern)"
   ]
  },
  {
   "cell_type": "code",
   "execution_count": 2,
   "metadata": {
    "ExecuteTime": {
     "end_time": "2020-02-25T02:04:37.270614Z",
     "start_time": "2020-02-25T02:04:37.267613Z"
    }
   },
   "outputs": [],
   "source": [
    "import pandas as pd\n",
    "from scipy import stats\n",
    "import numpy as np\n",
    "import matplotlib\n",
    "import math\n",
    "from scipy.stats import norm\n",
    "from dateutil.parser import *\n",
    "from datetime import *\n",
    "from dateutil.rrule import *\n",
    "import holidays"
   ]
  },
  {
   "cell_type": "code",
   "execution_count": 4,
   "metadata": {
    "ExecuteTime": {
     "end_time": "2020-02-25T02:04:56.423431Z",
     "start_time": "2020-02-25T02:04:56.419436Z"
    }
   },
   "outputs": [],
   "source": [
    "%run utils.py"
   ]
  },
  {
   "cell_type": "code",
   "execution_count": 7,
   "metadata": {
    "ExecuteTime": {
     "end_time": "2020-02-25T02:05:18.632279Z",
     "start_time": "2020-02-25T02:05:18.616277Z"
    }
   },
   "outputs": [
    {
     "data": {
      "text/html": [
       "<div>\n",
       "<style scoped>\n",
       "    .dataframe tbody tr th:only-of-type {\n",
       "        vertical-align: middle;\n",
       "    }\n",
       "\n",
       "    .dataframe tbody tr th {\n",
       "        vertical-align: top;\n",
       "    }\n",
       "\n",
       "    .dataframe thead th {\n",
       "        text-align: right;\n",
       "    }\n",
       "</style>\n",
       "<table border=\"1\" class=\"dataframe\">\n",
       "  <thead>\n",
       "    <tr style=\"text-align: right;\">\n",
       "      <th></th>\n",
       "      <th>Open</th>\n",
       "      <th>High</th>\n",
       "      <th>Low</th>\n",
       "      <th>Close</th>\n",
       "      <th>Adj Close</th>\n",
       "      <th>Volume</th>\n",
       "    </tr>\n",
       "    <tr>\n",
       "      <th>Date</th>\n",
       "      <th></th>\n",
       "      <th></th>\n",
       "      <th></th>\n",
       "      <th></th>\n",
       "      <th></th>\n",
       "      <th></th>\n",
       "    </tr>\n",
       "  </thead>\n",
       "  <tbody>\n",
       "    <tr>\n",
       "      <th>2015-01-29</th>\n",
       "      <td>200.38</td>\n",
       "      <td>202.30</td>\n",
       "      <td>198.68</td>\n",
       "      <td>201.99</td>\n",
       "      <td>183.042</td>\n",
       "      <td>173585400</td>\n",
       "    </tr>\n",
       "    <tr>\n",
       "      <th>2015-01-30</th>\n",
       "      <td>200.57</td>\n",
       "      <td>202.17</td>\n",
       "      <td>199.13</td>\n",
       "      <td>199.45</td>\n",
       "      <td>180.740</td>\n",
       "      <td>197729700</td>\n",
       "    </tr>\n",
       "    <tr>\n",
       "      <th>2015-02-02</th>\n",
       "      <td>200.05</td>\n",
       "      <td>202.03</td>\n",
       "      <td>197.86</td>\n",
       "      <td>201.92</td>\n",
       "      <td>182.979</td>\n",
       "      <td>163107000</td>\n",
       "    </tr>\n",
       "    <tr>\n",
       "      <th>2015-02-03</th>\n",
       "      <td>203.00</td>\n",
       "      <td>204.85</td>\n",
       "      <td>202.55</td>\n",
       "      <td>204.84</td>\n",
       "      <td>185.625</td>\n",
       "      <td>124212900</td>\n",
       "    </tr>\n",
       "    <tr>\n",
       "      <th>2015-02-04</th>\n",
       "      <td>203.92</td>\n",
       "      <td>205.38</td>\n",
       "      <td>203.51</td>\n",
       "      <td>204.06</td>\n",
       "      <td>184.918</td>\n",
       "      <td>134306700</td>\n",
       "    </tr>\n",
       "  </tbody>\n",
       "</table>\n",
       "</div>"
      ],
      "text/plain": [
       "              Open    High     Low   Close  Adj Close     Volume\n",
       "Date                                                            \n",
       "2015-01-29  200.38  202.30  198.68  201.99    183.042  173585400\n",
       "2015-01-30  200.57  202.17  199.13  199.45    180.740  197729700\n",
       "2015-02-02  200.05  202.03  197.86  201.92    182.979  163107000\n",
       "2015-02-03  203.00  204.85  202.55  204.84    185.625  124212900\n",
       "2015-02-04  203.92  205.38  203.51  204.06    184.918  134306700"
      ]
     },
     "execution_count": 7,
     "metadata": {},
     "output_type": "execute_result"
    }
   ],
   "source": [
    "df_spy = read_latest('spy')\n",
    "df_spy.head()"
   ]
  },
  {
   "cell_type": "code",
   "execution_count": 29,
   "metadata": {
    "ExecuteTime": {
     "end_time": "2020-02-25T03:01:06.199841Z",
     "start_time": "2020-02-25T03:01:06.186841Z"
    }
   },
   "outputs": [
    {
     "name": "stderr",
     "output_type": "stream",
     "text": [
      "C:\\Users\\User\\Anaconda3\\lib\\site-packages\\ipykernel_launcher.py:7: RuntimeWarning: invalid value encountered in sign\n",
      "  import sys\n"
     ]
    },
    {
     "data": {
      "text/plain": [
       "Index(['2015-11-11', '2015-11-16', '2016-01-11', '2016-04-01', '2018-11-19',\n",
       "       '2019-03-05'],\n",
       "      dtype='object', name='Date')"
      ]
     },
     "execution_count": 29,
     "metadata": {},
     "output_type": "execute_result"
    }
   ],
   "source": [
    "def SimpleMovingAverage(df, days):\n",
    "    return df['Adj Close'].rolling(days).mean()\n",
    "\n",
    "df_spy['30SMA'] = SimpleMovingAverage(df_spy, 30)\n",
    "df_spy['200SMA'] = SimpleMovingAverage(df_spy, 200)\n",
    "df_spy['LT_SMA'] = df_spy['30SMA'] - df_spy['200SMA']\n",
    "df_spy['LT_SMA_CROSS'] = np.sign(df_spy.dropna()['LT_SMA']) != np.sign(df_spy.dropna()['LT_SMA'].shift(1))\n",
    "df_spy_cross = df_spy['LT_SMA_CROSS'].fillna(False)\n",
    "df_spy[df_spy_cross].index"
   ]
  }
 ],
 "metadata": {
  "kernelspec": {
   "display_name": "Python 3",
   "language": "python",
   "name": "python3"
  },
  "language_info": {
   "codemirror_mode": {
    "name": "ipython",
    "version": 3
   },
   "file_extension": ".py",
   "mimetype": "text/x-python",
   "name": "python",
   "nbconvert_exporter": "python",
   "pygments_lexer": "ipython3",
   "version": "3.7.3"
  },
  "toc": {
   "base_numbering": 1,
   "nav_menu": {},
   "number_sections": true,
   "sideBar": true,
   "skip_h1_title": false,
   "title_cell": "Table of Contents",
   "title_sidebar": "Contents",
   "toc_cell": false,
   "toc_position": {},
   "toc_section_display": true,
   "toc_window_display": false
  },
  "varInspector": {
   "cols": {
    "lenName": 16,
    "lenType": 16,
    "lenVar": 40
   },
   "kernels_config": {
    "python": {
     "delete_cmd_postfix": "",
     "delete_cmd_prefix": "del ",
     "library": "var_list.py",
     "varRefreshCmd": "print(var_dic_list())"
    },
    "r": {
     "delete_cmd_postfix": ") ",
     "delete_cmd_prefix": "rm(",
     "library": "var_list.r",
     "varRefreshCmd": "cat(var_dic_list()) "
    }
   },
   "types_to_exclude": [
    "module",
    "function",
    "builtin_function_or_method",
    "instance",
    "_Feature"
   ],
   "window_display": false
  }
 },
 "nbformat": 4,
 "nbformat_minor": 4
}
