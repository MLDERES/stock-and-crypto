{
  "cells": [
    {
      "metadata": {
        "collapsed": true
      },
      "cell_type": "markdown",
      "source": [
        "# Pricing Models\n",
        "\n",
        "In this notebook, I'll capture the different pricing models only.  I'll expect that other notebooks will use these models and thus this notebook will need to be run from other notebooks to be valuable\n",
        "\n",
        "[TOC]\n"
      ]
    },
    {
      "metadata": {
        "trusted": true
      },
      "cell_type": "code",
      "source": [
        "import pandas as pd\n",
        "import numpy as np\n",
        "import math\n",
        "from scipy.stats import norm\n",
        "from dateutil.parser import *\n",
        "from datetime import *\n",
        "\n",
        "# Common functions\n",
        "def get_term(expiration, start=date.today()):\n",
        "    \n",
        "    if type(expiration) is str:\n",
        "        expiration = parse(expiration).date()\n",
        "    elif type(expiration) is pd.Timestamp:\n",
        "        expiration = expiration.date()\n",
        "        \n",
        "    if type(start) is str:\n",
        "        start = parse(start).date()\n",
        "    \n",
        "    return (expiration - start).days"
      ],
      "execution_count": 7,
      "outputs": []
    },
    {
      "metadata": {},
      "cell_type": "markdown",
      "source": [
        "## BlackSholes Model\n",
        "\n",
        "The Black-Sholes pricing model can be calculated using the current price, strike price, volatility, risk free rate, and the expiration. Two approaches are outlined here - first given a specific date, we can parse and figure out the number of days. The second takes the number of days directly."
      ]
    },
    {
      "metadata": {
        "trusted": true
      },
      "cell_type": "code",
      "source": [
        "def BlackSholes(S0, strikePrice, volatility, rate, expiration = '12/31/2020'):\n",
        "    term = get_term(expiration)\n",
        "    return _BlackSholes(S0,strikePrice,volatility,rate, term, termUnits='days')\n",
        "\n",
        "def _BlackSholes(S0, strikePrice, volatility, rate, term, termUnits='days'):\n",
        "    # this is the log of the current price / strike price term\n",
        "    logStockStrike = math.log(S0/strikePrice)\n",
        "    # represents the sigma-squared divided by 2 term\n",
        "    sigmaDiv2 = (volatility**2)/2\n",
        "    # Convert days to part of years\n",
        "    T = term/365 if termUnits == 'days' else term\n",
        "    ert = math.exp(-rate*T)\n",
        "\n",
        "    d1 = (logStockStrike + (rate+sigmaDiv2)*T) / (volatility*math.sqrt(T))\n",
        "    d2 = d1 - volatility*math.sqrt(T)\n",
        "    Nd1 = norm.cdf(d1)\n",
        "    Nd2 = norm.cdf(d2)\n",
        "    callPrice = S0*Nd1 - strikePrice*ert*Nd2\n",
        "\n",
        "    Nnegd1 = norm.cdf(-d1)\n",
        "    Nnegd2 = norm.cdf(-d2)\n",
        "    putPrice = strikePrice*ert*Nnegd2 - S0*Nnegd1\n",
        "\n",
        "    return (callPrice, putPrice)"
      ],
      "execution_count": 4,
      "outputs": []
    },
    {
      "metadata": {
        "trusted": true
      },
      "cell_type": "code",
      "source": [
        "# Notice when we call this function, that both the Call Price and the Put Price are returned\n",
        "currentPrice = 333.45\n",
        "volatility = 0.125\n",
        "strikePrice = 340\n",
        "riskFreeRate = 0.017\n",
        "expiration = '12/31/2020'\n",
        "\n",
        "callPrice, putPrice = BlackSholes(currentPrice, strikePrice, volatility, riskFreeRate, expiration)\n",
        "print(f'Call Price: {callPrice:0.2f}')\n",
        "print(f'Put Price: {putPrice:0.2f}')"
      ],
      "execution_count": 5,
      "outputs": [
        {
          "output_type": "stream",
          "text": "Call Price: 12.61\nPut Price: 15.19\n",
          "name": "stdout"
        }
      ]
    },
    {
      "metadata": {
        "trusted": true
      },
      "cell_type": "code",
      "source": [
        "callPrice, putPrice = BlackSholes(currentPrice, strikePrice, volatility, riskFreeRate, pd.Timestamp(year=2020,month=4, day=30))\n",
        "print(f'Call Price: {callPrice:0.2f}')\n",
        "print(f'Put Price: {putPrice:0.2f}')"
      ],
      "execution_count": 8,
      "outputs": [
        {
          "output_type": "stream",
          "text": "Call Price: 0.40\nPut Price: 6.84\n",
          "name": "stdout"
        }
      ]
    },
    {
      "metadata": {},
      "cell_type": "markdown",
      "source": [
        "## Cox-Ross-Rubenstein Binomial Model\n",
        "\n",
        "Mathematical formula for estimating the value of an American option (exercisable at any time up to the expiration date). Used in determining if the early exercise of the option is advisable, it (unlike the Black-Scholes option pricing model) assumes that the price of the underlying asset follows binomial distribution. It divides the time to expiration into a certain number of intervals over which the price of the underlying contract is allowed to move up or down according to a specified probability. Invented in 1979 by the US mathematicians John Cox, Stephen Ross, and Mark Rubinstein.\n",
        "\n",
        "Read more: http://www.businessdictionary.com/definition/Cox-Ross-Rubinstein-Option-Pricing-Model.html"
      ]
    },
    {
      "metadata": {
        "trusted": true
      },
      "cell_type": "code",
      "source": [
        "def CRR_option_value(S0, strikePrice,volatility, rate, exp='12/31/2020'):\n",
        "    ''' Cox-Ross-Rubinstein European option valuation\n",
        "    \n",
        "    S0: float, current price of the stock or index\n",
        "    strikePrice: float, strike price\n",
        "    volatility: float, volatility\n",
        "    rate: float, risk-less short rate\n",
        "    exp: string or datetime, the day of the expiration\n",
        "    \n",
        "    Note the call assumings the number of periods to oscillate is daily, therefore the number of days\n",
        "    before the expiration is the number of intervals used in the calculations\n",
        "    \n",
        "    '''\n",
        "    term = get_term(exp)\n",
        "    return _CRR_option_value(S0, strikePrice, volatility, rate, num_intervals=term, term=term, termUnits='days')\n",
        "\n",
        "\n",
        "def _CRR_option_value(S0, strikePrice,volatility, rate, num_intervals, term, termUnits='days'):\n",
        "    ''' Cox-Ross-Rubinstein European option valuation\n",
        "    \n",
        "    S0: float, current price of the stock or index\n",
        "    strikePrice: float, strike price\n",
        "    volatility: float, volatility\n",
        "    rate: float, risk-less short rate\n",
        "    num_intervals: int, the number of points at which to reconsider the price of the security\n",
        "    term: int, length of time to maturity in 'termUnits'\n",
        "    termUnits: string, either 'days' or 'years'\n",
        "    '''\n",
        "    \n",
        "    # Time components\n",
        "    T = term/365 if termUnits == 'days' else termUnits # Convert days to part of years\n",
        "    dt = T / num_intervals # Length of each interval\n",
        "    df = math.exp(-rate*dt) # discount per interval\n",
        "    \n",
        "    # Binomial Parameters\n",
        "    up_move = math.exp(volatility * math.sqrt(dt))\n",
        "    down_move = 1 / up_move\n",
        "    q = (math.exp(rate* dt)-down_move)/(up_move-down_move) # martingdale branch probability\n",
        "    \n",
        "    # Setting up the arrays\n",
        "    # Since CRR closes in on the price either from underneath or by oscillation,\n",
        "    #  these two arrays set up the greatest value (at a given time) or the smallest\n",
        "    #  value at a given time in the future.\n",
        "    mu = np.arange(num_intervals +1) # represents the up movements\n",
        "    mu = np.resize(mu, (num_intervals+1, num_intervals+1))\n",
        "    md = np.transpose(mu) # this is the down movements\n",
        "    mu = up_move ** (mu-md) # this accounts for the up movements\n",
        "    md = down_move ** md\n",
        "    \n",
        "    S= S0 * mu * md\n",
        "    \n",
        "    def innerValues(V):\n",
        "        z = 0\n",
        "        for t in range(num_intervals-1,-1,-1): # working backward\n",
        "            V[0:num_intervals-z, t] = (q*V[0:num_intervals-z,t+1] + (1-q) *V[1:num_intervals-z+1,t+1]) * df\n",
        "            z += 1\n",
        "        return V[0,0]\n",
        "\n",
        "    # Inner values - let's start with Call\n",
        "    call_price = innerValues(np.maximum(S-strikePrice,0)) # if the value of the call is less than 0 then it is worthless\n",
        "    # Inner values - now onto puts\n",
        "    put_price = innerValues(np.maximum(strikePrice-S,0)) # if the value of the call is less than 0 then it is worthless\n",
        "    \n",
        "    \n",
        "    return (call_price, put_price)\n",
        "    "
      ],
      "execution_count": 35,
      "outputs": []
    },
    {
      "metadata": {
        "trusted": true
      },
      "cell_type": "code",
      "source": [
        "# Notice when we call this function, that both the Call Price and the Put Price are returned\n",
        "currentPrice = 333.45\n",
        "volatility = 0.125\n",
        "strikePrice = 340\n",
        "riskFreeRate = 0.017\n",
        "expiration = '12/31/2020'\n",
        "\n",
        "callPrice, putPrice = CRR_option_value(currentPrice, strikePrice, volatility, riskFreeRate,exp=expiration )\n",
        "print(f'Call Price: {callPrice:0.2f}')\n",
        "print(f'Put Price: {putPrice:0.2f}')\n"
      ],
      "execution_count": 14,
      "outputs": [
        {
          "output_type": "stream",
          "text": "Call Price: 12.63\nPut Price: 15.20\n",
          "name": "stdout"
        }
      ]
    }
  ],
  "metadata": {
    "kernelspec": {
      "name": "python36",
      "display_name": "Python 3.6",
      "language": "python"
    },
    "language_info": {
      "mimetype": "text/x-python",
      "nbconvert_exporter": "python",
      "name": "python",
      "pygments_lexer": "ipython3",
      "version": "3.6.6",
      "file_extension": ".py",
      "codemirror_mode": {
        "version": 3,
        "name": "ipython"
      }
    },
    "varInspector": {
      "window_display": false,
      "cols": {
        "lenName": 16,
        "lenType": 16,
        "lenVar": 40
      },
      "kernels_config": {
        "python": {
          "library": "var_list.py",
          "delete_cmd_prefix": "del ",
          "delete_cmd_postfix": "",
          "varRefreshCmd": "print(var_dic_list())"
        },
        "r": {
          "library": "var_list.r",
          "delete_cmd_prefix": "rm(",
          "delete_cmd_postfix": ") ",
          "varRefreshCmd": "cat(var_dic_list()) "
        }
      },
      "types_to_exclude": [
        "module",
        "function",
        "builtin_function_or_method",
        "instance",
        "_Feature"
      ]
    }
  },
  "nbformat": 4,
  "nbformat_minor": 2
}